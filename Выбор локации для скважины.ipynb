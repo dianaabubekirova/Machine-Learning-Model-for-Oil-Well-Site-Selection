{
 "cells": [
  {
   "cell_type": "markdown",
   "metadata": {},
   "source": [
    "# Выбор локации для скважины"
   ]
  },
  {
   "cell_type": "markdown",
   "metadata": {},
   "source": [
    "Допустим, вы работаете в добывающей компании «ГлавРосГосНефть». Нужно решить, где бурить новую скважину.\n",
    "\n",
    "Вам предоставлены пробы нефти в трёх регионах: в каждом 10 000 месторождений, где измерили качество нефти и объём её запасов. Постройте модель машинного обучения, которая поможет определить регион, где добыча принесёт наибольшую прибыль. Проанализируйте возможную прибыль и риски техникой *Bootstrap.*\n",
    "\n",
    "Шаги для выбора локации:\n",
    "\n",
    "- В избранном регионе ищут месторождения, для каждого определяют значения признаков;\n",
    "- Строят модель и оценивают объём запасов;\n",
    "- Выбирают месторождения с самым высокими оценками значений. Количество месторождений зависит от бюджета компании и стоимости разработки одной скважины;\n",
    "- Прибыль равна суммарной прибыли отобранных месторождений."
   ]
  },
  {
   "cell_type": "markdown",
   "metadata": {},
   "source": [
    "***Инструкция по выполнению проекта***"
   ]
  },
  {
   "cell_type": "markdown",
   "metadata": {},
   "source": [
    "<br> **1. Загрузите и подготовьте данные. Поясните порядок действий.**\n",
    "\n",
    "<br> **2. Обучите и проверьте модель для каждого региона:**\n",
    " <br>2.1. Разбейте данные на обучающую и валидационную выборки в соотношении 75:25.\n",
    " <br>2.2. Обучите модель и сделайте предсказания на валидационной выборке.\n",
    " <br>2.3. Сохраните предсказания и правильные ответы на валидационной выборке.\n",
    " <br>2.4. Напечатайте на экране средний запас предсказанного сырья и RMSE модели.\n",
    " <br>2.5. Проанализируйте результаты.\n",
    " \n",
    "<br> **3. Подготовьтесь к расчёту прибыли:**\n",
    " <br>3.1. Все ключевые значения для расчётов сохраните в отдельных переменных.\n",
    " <br>3.2. Рассчитайте достаточный объём сырья для безубыточной разработки новой скважины. Сравните полученный объём сырья со <br>средним запасом в каждом регионе. \n",
    " 3.3. Напишите выводы по этапу подготовки расчёта прибыли.\n",
    " \n",
    "<br> **4. Напишите функцию для расчёта прибыли по выбранным скважинам и предсказаниям модели:**\n",
    " <br>4.1. Выберите скважины с максимальными значениями предсказаний. \n",
    " <br>4.2. Просуммируйте целевое значение объёма сырья, соответствующее этим предсказаниям.\n",
    " <br>4.3. Рассчитайте прибыль для полученного объёма сырья.\n",
    " \n",
    "<br> **5. Посчитайте риски и прибыль для каждого региона:**\n",
    " <br>5.1. Примените технику Bootstrap с 1000 выборок, чтобы найти распределение прибыли.\n",
    " <br>5.2. Найдите среднюю прибыль, 95%-й доверительный интервал и риск убытков. Убыток — это отрицательная прибыль.\n",
    " <br>5.3. Напишите выводы: предложите регион для разработки скважин и обоснуйте выбор."
   ]
  },
  {
   "cell_type": "markdown",
   "metadata": {},
   "source": [
    "**Описание данных**\n",
    "- id — уникальный идентификатор скважины;\n",
    "- f0, f1, f2 — три признака точек (неважно, что они означают, но сами признаки значимы);\n",
    "- product — объём запасов в скважине (тыс. баррелей)."
   ]
  },
  {
   "cell_type": "markdown",
   "metadata": {},
   "source": [
    "**Условия задачи:**\n",
    "- Для обучения модели подходит только линейная регрессия (остальные — недостаточно предсказуемые).\n",
    "- При разведке региона исследуют 500 точек, из которых с помощью машинного обучения выбирают 200 лучших для разработки.\n",
    "- Бюджет на разработку скважин в регионе — 10 млрд рублей.\n",
    "- При нынешних ценах один баррель сырья приносит 450 рублей дохода. Доход с каждой единицы продукта составляет 450 тыс. рублей, поскольку объём указан в тысячах баррелей.\n",
    "- После оценки рисков нужно оставить лишь те регионы, в которых вероятность убытков меньше 2.5%. Среди них выбирают регион с наибольшей средней прибылью.\n",
    "- Данные синтетические: детали контрактов и характеристики месторождений не разглашаются."
   ]
  },
  {
   "cell_type": "markdown",
   "metadata": {},
   "source": [
    "## Загрузка и подготовка данных"
   ]
  },
  {
   "cell_type": "markdown",
   "metadata": {},
   "source": [
    "Импортируем необходимые библиотеки"
   ]
  },
  {
   "cell_type": "code",
   "execution_count": 1,
   "metadata": {},
   "outputs": [],
   "source": [
    "import pandas as pd\n",
    "import numpy as np\n",
    "from scipy import stats as st\n",
    "from sklearn.model_selection import train_test_split\n",
    "from sklearn.linear_model import LinearRegression\n",
    "from sklearn.metrics import mean_squared_error\n",
    "import matplotlib.pyplot as plt\n",
    "import warnings\n",
    "warnings.filterwarnings(\"ignore\")"
   ]
  },
  {
   "cell_type": "code",
   "execution_count": 2,
   "metadata": {},
   "outputs": [],
   "source": [
    "df1 = pd.read_csv('/datasets/geo_data_0.csv')\n",
    "df2 = pd.read_csv('/datasets/geo_data_1.csv')\n",
    "df3 = pd.read_csv('/datasets/geo_data_2.csv')\n",
    "#Читаем файлы, сохраняем их в переменные "
   ]
  },
  {
   "cell_type": "markdown",
   "metadata": {},
   "source": [
    "Узнаем размеры таблиц и данные"
   ]
  },
  {
   "cell_type": "code",
   "execution_count": 3,
   "metadata": {},
   "outputs": [
    {
     "name": "stdout",
     "output_type": "stream",
     "text": [
      "<class 'pandas.core.frame.DataFrame'>\n",
      "RangeIndex: 100000 entries, 0 to 99999\n",
      "Data columns (total 5 columns):\n",
      " #   Column   Non-Null Count   Dtype  \n",
      "---  ------   --------------   -----  \n",
      " 0   id       100000 non-null  object \n",
      " 1   f0       100000 non-null  float64\n",
      " 2   f1       100000 non-null  float64\n",
      " 3   f2       100000 non-null  float64\n",
      " 4   product  100000 non-null  float64\n",
      "dtypes: float64(4), object(1)\n",
      "memory usage: 3.8+ MB\n"
     ]
    }
   ],
   "source": [
    "df1.info()"
   ]
  },
  {
   "cell_type": "code",
   "execution_count": 4,
   "metadata": {},
   "outputs": [
    {
     "name": "stdout",
     "output_type": "stream",
     "text": [
      "<class 'pandas.core.frame.DataFrame'>\n",
      "RangeIndex: 100000 entries, 0 to 99999\n",
      "Data columns (total 5 columns):\n",
      " #   Column   Non-Null Count   Dtype  \n",
      "---  ------   --------------   -----  \n",
      " 0   id       100000 non-null  object \n",
      " 1   f0       100000 non-null  float64\n",
      " 2   f1       100000 non-null  float64\n",
      " 3   f2       100000 non-null  float64\n",
      " 4   product  100000 non-null  float64\n",
      "dtypes: float64(4), object(1)\n",
      "memory usage: 3.8+ MB\n"
     ]
    }
   ],
   "source": [
    "df2.info()"
   ]
  },
  {
   "cell_type": "code",
   "execution_count": 5,
   "metadata": {},
   "outputs": [
    {
     "name": "stdout",
     "output_type": "stream",
     "text": [
      "<class 'pandas.core.frame.DataFrame'>\n",
      "RangeIndex: 100000 entries, 0 to 99999\n",
      "Data columns (total 5 columns):\n",
      " #   Column   Non-Null Count   Dtype  \n",
      "---  ------   --------------   -----  \n",
      " 0   id       100000 non-null  object \n",
      " 1   f0       100000 non-null  float64\n",
      " 2   f1       100000 non-null  float64\n",
      " 3   f2       100000 non-null  float64\n",
      " 4   product  100000 non-null  float64\n",
      "dtypes: float64(4), object(1)\n",
      "memory usage: 3.8+ MB\n"
     ]
    }
   ],
   "source": [
    "df3.info()"
   ]
  },
  {
   "cell_type": "markdown",
   "metadata": {},
   "source": [
    "Изучим таблицы и проанализируем данные в них"
   ]
  },
  {
   "cell_type": "code",
   "execution_count": 6,
   "metadata": {
    "scrolled": true
   },
   "outputs": [
    {
     "data": {
      "text/html": [
       "<div>\n",
       "<style scoped>\n",
       "    .dataframe tbody tr th:only-of-type {\n",
       "        vertical-align: middle;\n",
       "    }\n",
       "\n",
       "    .dataframe tbody tr th {\n",
       "        vertical-align: top;\n",
       "    }\n",
       "\n",
       "    .dataframe thead th {\n",
       "        text-align: right;\n",
       "    }\n",
       "</style>\n",
       "<table border=\"1\" class=\"dataframe\">\n",
       "  <thead>\n",
       "    <tr style=\"text-align: right;\">\n",
       "      <th></th>\n",
       "      <th>f0</th>\n",
       "      <th>f1</th>\n",
       "      <th>f2</th>\n",
       "      <th>product</th>\n",
       "    </tr>\n",
       "  </thead>\n",
       "  <tbody>\n",
       "    <tr>\n",
       "      <th>count</th>\n",
       "      <td>100000.000000</td>\n",
       "      <td>100000.000000</td>\n",
       "      <td>100000.000000</td>\n",
       "      <td>100000.000000</td>\n",
       "    </tr>\n",
       "    <tr>\n",
       "      <th>mean</th>\n",
       "      <td>0.500419</td>\n",
       "      <td>0.250143</td>\n",
       "      <td>2.502647</td>\n",
       "      <td>92.500000</td>\n",
       "    </tr>\n",
       "    <tr>\n",
       "      <th>std</th>\n",
       "      <td>0.871832</td>\n",
       "      <td>0.504433</td>\n",
       "      <td>3.248248</td>\n",
       "      <td>44.288691</td>\n",
       "    </tr>\n",
       "    <tr>\n",
       "      <th>min</th>\n",
       "      <td>-1.408605</td>\n",
       "      <td>-0.848218</td>\n",
       "      <td>-12.088328</td>\n",
       "      <td>0.000000</td>\n",
       "    </tr>\n",
       "    <tr>\n",
       "      <th>25%</th>\n",
       "      <td>-0.072580</td>\n",
       "      <td>-0.200881</td>\n",
       "      <td>0.287748</td>\n",
       "      <td>56.497507</td>\n",
       "    </tr>\n",
       "    <tr>\n",
       "      <th>50%</th>\n",
       "      <td>0.502360</td>\n",
       "      <td>0.250252</td>\n",
       "      <td>2.515969</td>\n",
       "      <td>91.849972</td>\n",
       "    </tr>\n",
       "    <tr>\n",
       "      <th>75%</th>\n",
       "      <td>1.073581</td>\n",
       "      <td>0.700646</td>\n",
       "      <td>4.715088</td>\n",
       "      <td>128.564089</td>\n",
       "    </tr>\n",
       "    <tr>\n",
       "      <th>max</th>\n",
       "      <td>2.362331</td>\n",
       "      <td>1.343769</td>\n",
       "      <td>16.003790</td>\n",
       "      <td>185.364347</td>\n",
       "    </tr>\n",
       "  </tbody>\n",
       "</table>\n",
       "</div>"
      ],
      "text/plain": [
       "                  f0             f1             f2        product\n",
       "count  100000.000000  100000.000000  100000.000000  100000.000000\n",
       "mean        0.500419       0.250143       2.502647      92.500000\n",
       "std         0.871832       0.504433       3.248248      44.288691\n",
       "min        -1.408605      -0.848218     -12.088328       0.000000\n",
       "25%        -0.072580      -0.200881       0.287748      56.497507\n",
       "50%         0.502360       0.250252       2.515969      91.849972\n",
       "75%         1.073581       0.700646       4.715088     128.564089\n",
       "max         2.362331       1.343769      16.003790     185.364347"
      ]
     },
     "execution_count": 6,
     "metadata": {},
     "output_type": "execute_result"
    }
   ],
   "source": [
    "df1.describe()"
   ]
  },
  {
   "cell_type": "code",
   "execution_count": 7,
   "metadata": {},
   "outputs": [
    {
     "data": {
      "text/html": [
       "<div>\n",
       "<style scoped>\n",
       "    .dataframe tbody tr th:only-of-type {\n",
       "        vertical-align: middle;\n",
       "    }\n",
       "\n",
       "    .dataframe tbody tr th {\n",
       "        vertical-align: top;\n",
       "    }\n",
       "\n",
       "    .dataframe thead th {\n",
       "        text-align: right;\n",
       "    }\n",
       "</style>\n",
       "<table border=\"1\" class=\"dataframe\">\n",
       "  <thead>\n",
       "    <tr style=\"text-align: right;\">\n",
       "      <th></th>\n",
       "      <th>id</th>\n",
       "      <th>f0</th>\n",
       "      <th>f1</th>\n",
       "      <th>f2</th>\n",
       "      <th>product</th>\n",
       "    </tr>\n",
       "  </thead>\n",
       "  <tbody>\n",
       "    <tr>\n",
       "      <th>0</th>\n",
       "      <td>txEyH</td>\n",
       "      <td>0.705745</td>\n",
       "      <td>-0.497823</td>\n",
       "      <td>1.221170</td>\n",
       "      <td>105.280062</td>\n",
       "    </tr>\n",
       "    <tr>\n",
       "      <th>1</th>\n",
       "      <td>2acmU</td>\n",
       "      <td>1.334711</td>\n",
       "      <td>-0.340164</td>\n",
       "      <td>4.365080</td>\n",
       "      <td>73.037750</td>\n",
       "    </tr>\n",
       "    <tr>\n",
       "      <th>2</th>\n",
       "      <td>409Wp</td>\n",
       "      <td>1.022732</td>\n",
       "      <td>0.151990</td>\n",
       "      <td>1.419926</td>\n",
       "      <td>85.265647</td>\n",
       "    </tr>\n",
       "    <tr>\n",
       "      <th>3</th>\n",
       "      <td>iJLyR</td>\n",
       "      <td>-0.032172</td>\n",
       "      <td>0.139033</td>\n",
       "      <td>2.978566</td>\n",
       "      <td>168.620776</td>\n",
       "    </tr>\n",
       "    <tr>\n",
       "      <th>4</th>\n",
       "      <td>Xdl7t</td>\n",
       "      <td>1.988431</td>\n",
       "      <td>0.155413</td>\n",
       "      <td>4.751769</td>\n",
       "      <td>154.036647</td>\n",
       "    </tr>\n",
       "  </tbody>\n",
       "</table>\n",
       "</div>"
      ],
      "text/plain": [
       "      id        f0        f1        f2     product\n",
       "0  txEyH  0.705745 -0.497823  1.221170  105.280062\n",
       "1  2acmU  1.334711 -0.340164  4.365080   73.037750\n",
       "2  409Wp  1.022732  0.151990  1.419926   85.265647\n",
       "3  iJLyR -0.032172  0.139033  2.978566  168.620776\n",
       "4  Xdl7t  1.988431  0.155413  4.751769  154.036647"
      ]
     },
     "execution_count": 7,
     "metadata": {},
     "output_type": "execute_result"
    }
   ],
   "source": [
    "df1.head()"
   ]
  },
  {
   "cell_type": "code",
   "execution_count": 8,
   "metadata": {},
   "outputs": [
    {
     "data": {
      "text/html": [
       "<div>\n",
       "<style scoped>\n",
       "    .dataframe tbody tr th:only-of-type {\n",
       "        vertical-align: middle;\n",
       "    }\n",
       "\n",
       "    .dataframe tbody tr th {\n",
       "        vertical-align: top;\n",
       "    }\n",
       "\n",
       "    .dataframe thead th {\n",
       "        text-align: right;\n",
       "    }\n",
       "</style>\n",
       "<table border=\"1\" class=\"dataframe\">\n",
       "  <thead>\n",
       "    <tr style=\"text-align: right;\">\n",
       "      <th></th>\n",
       "      <th>f0</th>\n",
       "      <th>f1</th>\n",
       "      <th>f2</th>\n",
       "      <th>product</th>\n",
       "    </tr>\n",
       "  </thead>\n",
       "  <tbody>\n",
       "    <tr>\n",
       "      <th>count</th>\n",
       "      <td>100000.000000</td>\n",
       "      <td>100000.000000</td>\n",
       "      <td>100000.000000</td>\n",
       "      <td>100000.000000</td>\n",
       "    </tr>\n",
       "    <tr>\n",
       "      <th>mean</th>\n",
       "      <td>1.141296</td>\n",
       "      <td>-4.796579</td>\n",
       "      <td>2.494541</td>\n",
       "      <td>68.825000</td>\n",
       "    </tr>\n",
       "    <tr>\n",
       "      <th>std</th>\n",
       "      <td>8.965932</td>\n",
       "      <td>5.119872</td>\n",
       "      <td>1.703572</td>\n",
       "      <td>45.944423</td>\n",
       "    </tr>\n",
       "    <tr>\n",
       "      <th>min</th>\n",
       "      <td>-31.609576</td>\n",
       "      <td>-26.358598</td>\n",
       "      <td>-0.018144</td>\n",
       "      <td>0.000000</td>\n",
       "    </tr>\n",
       "    <tr>\n",
       "      <th>25%</th>\n",
       "      <td>-6.298551</td>\n",
       "      <td>-8.267985</td>\n",
       "      <td>1.000021</td>\n",
       "      <td>26.953261</td>\n",
       "    </tr>\n",
       "    <tr>\n",
       "      <th>50%</th>\n",
       "      <td>1.153055</td>\n",
       "      <td>-4.813172</td>\n",
       "      <td>2.011479</td>\n",
       "      <td>57.085625</td>\n",
       "    </tr>\n",
       "    <tr>\n",
       "      <th>75%</th>\n",
       "      <td>8.621015</td>\n",
       "      <td>-1.332816</td>\n",
       "      <td>3.999904</td>\n",
       "      <td>107.813044</td>\n",
       "    </tr>\n",
       "    <tr>\n",
       "      <th>max</th>\n",
       "      <td>29.421755</td>\n",
       "      <td>18.734063</td>\n",
       "      <td>5.019721</td>\n",
       "      <td>137.945408</td>\n",
       "    </tr>\n",
       "  </tbody>\n",
       "</table>\n",
       "</div>"
      ],
      "text/plain": [
       "                  f0             f1             f2        product\n",
       "count  100000.000000  100000.000000  100000.000000  100000.000000\n",
       "mean        1.141296      -4.796579       2.494541      68.825000\n",
       "std         8.965932       5.119872       1.703572      45.944423\n",
       "min       -31.609576     -26.358598      -0.018144       0.000000\n",
       "25%        -6.298551      -8.267985       1.000021      26.953261\n",
       "50%         1.153055      -4.813172       2.011479      57.085625\n",
       "75%         8.621015      -1.332816       3.999904     107.813044\n",
       "max        29.421755      18.734063       5.019721     137.945408"
      ]
     },
     "execution_count": 8,
     "metadata": {},
     "output_type": "execute_result"
    }
   ],
   "source": [
    "df2.describe()"
   ]
  },
  {
   "cell_type": "code",
   "execution_count": 9,
   "metadata": {},
   "outputs": [
    {
     "data": {
      "text/html": [
       "<div>\n",
       "<style scoped>\n",
       "    .dataframe tbody tr th:only-of-type {\n",
       "        vertical-align: middle;\n",
       "    }\n",
       "\n",
       "    .dataframe tbody tr th {\n",
       "        vertical-align: top;\n",
       "    }\n",
       "\n",
       "    .dataframe thead th {\n",
       "        text-align: right;\n",
       "    }\n",
       "</style>\n",
       "<table border=\"1\" class=\"dataframe\">\n",
       "  <thead>\n",
       "    <tr style=\"text-align: right;\">\n",
       "      <th></th>\n",
       "      <th>id</th>\n",
       "      <th>f0</th>\n",
       "      <th>f1</th>\n",
       "      <th>f2</th>\n",
       "      <th>product</th>\n",
       "    </tr>\n",
       "  </thead>\n",
       "  <tbody>\n",
       "    <tr>\n",
       "      <th>0</th>\n",
       "      <td>kBEdx</td>\n",
       "      <td>-15.001348</td>\n",
       "      <td>-8.276000</td>\n",
       "      <td>-0.005876</td>\n",
       "      <td>3.179103</td>\n",
       "    </tr>\n",
       "    <tr>\n",
       "      <th>1</th>\n",
       "      <td>62mP7</td>\n",
       "      <td>14.272088</td>\n",
       "      <td>-3.475083</td>\n",
       "      <td>0.999183</td>\n",
       "      <td>26.953261</td>\n",
       "    </tr>\n",
       "    <tr>\n",
       "      <th>2</th>\n",
       "      <td>vyE1P</td>\n",
       "      <td>6.263187</td>\n",
       "      <td>-5.948386</td>\n",
       "      <td>5.001160</td>\n",
       "      <td>134.766305</td>\n",
       "    </tr>\n",
       "    <tr>\n",
       "      <th>3</th>\n",
       "      <td>KcrkZ</td>\n",
       "      <td>-13.081196</td>\n",
       "      <td>-11.506057</td>\n",
       "      <td>4.999415</td>\n",
       "      <td>137.945408</td>\n",
       "    </tr>\n",
       "    <tr>\n",
       "      <th>4</th>\n",
       "      <td>AHL4O</td>\n",
       "      <td>12.702195</td>\n",
       "      <td>-8.147433</td>\n",
       "      <td>5.004363</td>\n",
       "      <td>134.766305</td>\n",
       "    </tr>\n",
       "  </tbody>\n",
       "</table>\n",
       "</div>"
      ],
      "text/plain": [
       "      id         f0         f1        f2     product\n",
       "0  kBEdx -15.001348  -8.276000 -0.005876    3.179103\n",
       "1  62mP7  14.272088  -3.475083  0.999183   26.953261\n",
       "2  vyE1P   6.263187  -5.948386  5.001160  134.766305\n",
       "3  KcrkZ -13.081196 -11.506057  4.999415  137.945408\n",
       "4  AHL4O  12.702195  -8.147433  5.004363  134.766305"
      ]
     },
     "execution_count": 9,
     "metadata": {},
     "output_type": "execute_result"
    }
   ],
   "source": [
    "df2.head()"
   ]
  },
  {
   "cell_type": "code",
   "execution_count": 10,
   "metadata": {
    "scrolled": true
   },
   "outputs": [
    {
     "data": {
      "text/html": [
       "<div>\n",
       "<style scoped>\n",
       "    .dataframe tbody tr th:only-of-type {\n",
       "        vertical-align: middle;\n",
       "    }\n",
       "\n",
       "    .dataframe tbody tr th {\n",
       "        vertical-align: top;\n",
       "    }\n",
       "\n",
       "    .dataframe thead th {\n",
       "        text-align: right;\n",
       "    }\n",
       "</style>\n",
       "<table border=\"1\" class=\"dataframe\">\n",
       "  <thead>\n",
       "    <tr style=\"text-align: right;\">\n",
       "      <th></th>\n",
       "      <th>f0</th>\n",
       "      <th>f1</th>\n",
       "      <th>f2</th>\n",
       "      <th>product</th>\n",
       "    </tr>\n",
       "  </thead>\n",
       "  <tbody>\n",
       "    <tr>\n",
       "      <th>count</th>\n",
       "      <td>100000.000000</td>\n",
       "      <td>100000.000000</td>\n",
       "      <td>100000.000000</td>\n",
       "      <td>100000.000000</td>\n",
       "    </tr>\n",
       "    <tr>\n",
       "      <th>mean</th>\n",
       "      <td>0.002023</td>\n",
       "      <td>-0.002081</td>\n",
       "      <td>2.495128</td>\n",
       "      <td>95.000000</td>\n",
       "    </tr>\n",
       "    <tr>\n",
       "      <th>std</th>\n",
       "      <td>1.732045</td>\n",
       "      <td>1.730417</td>\n",
       "      <td>3.473445</td>\n",
       "      <td>44.749921</td>\n",
       "    </tr>\n",
       "    <tr>\n",
       "      <th>min</th>\n",
       "      <td>-8.760004</td>\n",
       "      <td>-7.084020</td>\n",
       "      <td>-11.970335</td>\n",
       "      <td>0.000000</td>\n",
       "    </tr>\n",
       "    <tr>\n",
       "      <th>25%</th>\n",
       "      <td>-1.162288</td>\n",
       "      <td>-1.174820</td>\n",
       "      <td>0.130359</td>\n",
       "      <td>59.450441</td>\n",
       "    </tr>\n",
       "    <tr>\n",
       "      <th>50%</th>\n",
       "      <td>0.009424</td>\n",
       "      <td>-0.009482</td>\n",
       "      <td>2.484236</td>\n",
       "      <td>94.925613</td>\n",
       "    </tr>\n",
       "    <tr>\n",
       "      <th>75%</th>\n",
       "      <td>1.158535</td>\n",
       "      <td>1.163678</td>\n",
       "      <td>4.858794</td>\n",
       "      <td>130.595027</td>\n",
       "    </tr>\n",
       "    <tr>\n",
       "      <th>max</th>\n",
       "      <td>7.238262</td>\n",
       "      <td>7.844801</td>\n",
       "      <td>16.739402</td>\n",
       "      <td>190.029838</td>\n",
       "    </tr>\n",
       "  </tbody>\n",
       "</table>\n",
       "</div>"
      ],
      "text/plain": [
       "                  f0             f1             f2        product\n",
       "count  100000.000000  100000.000000  100000.000000  100000.000000\n",
       "mean        0.002023      -0.002081       2.495128      95.000000\n",
       "std         1.732045       1.730417       3.473445      44.749921\n",
       "min        -8.760004      -7.084020     -11.970335       0.000000\n",
       "25%        -1.162288      -1.174820       0.130359      59.450441\n",
       "50%         0.009424      -0.009482       2.484236      94.925613\n",
       "75%         1.158535       1.163678       4.858794     130.595027\n",
       "max         7.238262       7.844801      16.739402     190.029838"
      ]
     },
     "execution_count": 10,
     "metadata": {},
     "output_type": "execute_result"
    }
   ],
   "source": [
    "df3.describe()"
   ]
  },
  {
   "cell_type": "code",
   "execution_count": 11,
   "metadata": {},
   "outputs": [
    {
     "data": {
      "text/html": [
       "<div>\n",
       "<style scoped>\n",
       "    .dataframe tbody tr th:only-of-type {\n",
       "        vertical-align: middle;\n",
       "    }\n",
       "\n",
       "    .dataframe tbody tr th {\n",
       "        vertical-align: top;\n",
       "    }\n",
       "\n",
       "    .dataframe thead th {\n",
       "        text-align: right;\n",
       "    }\n",
       "</style>\n",
       "<table border=\"1\" class=\"dataframe\">\n",
       "  <thead>\n",
       "    <tr style=\"text-align: right;\">\n",
       "      <th></th>\n",
       "      <th>id</th>\n",
       "      <th>f0</th>\n",
       "      <th>f1</th>\n",
       "      <th>f2</th>\n",
       "      <th>product</th>\n",
       "    </tr>\n",
       "  </thead>\n",
       "  <tbody>\n",
       "    <tr>\n",
       "      <th>0</th>\n",
       "      <td>fwXo0</td>\n",
       "      <td>-1.146987</td>\n",
       "      <td>0.963328</td>\n",
       "      <td>-0.828965</td>\n",
       "      <td>27.758673</td>\n",
       "    </tr>\n",
       "    <tr>\n",
       "      <th>1</th>\n",
       "      <td>WJtFt</td>\n",
       "      <td>0.262778</td>\n",
       "      <td>0.269839</td>\n",
       "      <td>-2.530187</td>\n",
       "      <td>56.069697</td>\n",
       "    </tr>\n",
       "    <tr>\n",
       "      <th>2</th>\n",
       "      <td>ovLUW</td>\n",
       "      <td>0.194587</td>\n",
       "      <td>0.289035</td>\n",
       "      <td>-5.586433</td>\n",
       "      <td>62.871910</td>\n",
       "    </tr>\n",
       "    <tr>\n",
       "      <th>3</th>\n",
       "      <td>q6cA6</td>\n",
       "      <td>2.236060</td>\n",
       "      <td>-0.553760</td>\n",
       "      <td>0.930038</td>\n",
       "      <td>114.572842</td>\n",
       "    </tr>\n",
       "    <tr>\n",
       "      <th>4</th>\n",
       "      <td>WPMUX</td>\n",
       "      <td>-0.515993</td>\n",
       "      <td>1.716266</td>\n",
       "      <td>5.899011</td>\n",
       "      <td>149.600746</td>\n",
       "    </tr>\n",
       "  </tbody>\n",
       "</table>\n",
       "</div>"
      ],
      "text/plain": [
       "      id        f0        f1        f2     product\n",
       "0  fwXo0 -1.146987  0.963328 -0.828965   27.758673\n",
       "1  WJtFt  0.262778  0.269839 -2.530187   56.069697\n",
       "2  ovLUW  0.194587  0.289035 -5.586433   62.871910\n",
       "3  q6cA6  2.236060 -0.553760  0.930038  114.572842\n",
       "4  WPMUX -0.515993  1.716266  5.899011  149.600746"
      ]
     },
     "execution_count": 11,
     "metadata": {},
     "output_type": "execute_result"
    }
   ],
   "source": [
    "df3.head()"
   ]
  },
  {
   "cell_type": "markdown",
   "metadata": {},
   "source": [
    "**Проведем предобработку данных**"
   ]
  },
  {
   "cell_type": "markdown",
   "metadata": {},
   "source": [
    "Смотрим долю пропусков"
   ]
  },
  {
   "cell_type": "code",
   "execution_count": 12,
   "metadata": {},
   "outputs": [
    {
     "data": {
      "text/plain": [
       "id         0\n",
       "f0         0\n",
       "f1         0\n",
       "f2         0\n",
       "product    0\n",
       "dtype: int64"
      ]
     },
     "execution_count": 12,
     "metadata": {},
     "output_type": "execute_result"
    }
   ],
   "source": [
    "df1.isna().sum()"
   ]
  },
  {
   "cell_type": "code",
   "execution_count": 13,
   "metadata": {},
   "outputs": [
    {
     "data": {
      "text/plain": [
       "id         0\n",
       "f0         0\n",
       "f1         0\n",
       "f2         0\n",
       "product    0\n",
       "dtype: int64"
      ]
     },
     "execution_count": 13,
     "metadata": {},
     "output_type": "execute_result"
    }
   ],
   "source": [
    "df2.isna().sum()"
   ]
  },
  {
   "cell_type": "code",
   "execution_count": 14,
   "metadata": {},
   "outputs": [
    {
     "data": {
      "text/plain": [
       "id         0\n",
       "f0         0\n",
       "f1         0\n",
       "f2         0\n",
       "product    0\n",
       "dtype: int64"
      ]
     },
     "execution_count": 14,
     "metadata": {},
     "output_type": "execute_result"
    }
   ],
   "source": [
    "df3.isna().sum()"
   ]
  },
  {
   "cell_type": "markdown",
   "metadata": {},
   "source": [
    "Проверим наличие явных дубликатов"
   ]
  },
  {
   "cell_type": "code",
   "execution_count": 15,
   "metadata": {},
   "outputs": [
    {
     "data": {
      "text/plain": [
       "0"
      ]
     },
     "execution_count": 15,
     "metadata": {},
     "output_type": "execute_result"
    }
   ],
   "source": [
    "df1.duplicated().sum()"
   ]
  },
  {
   "cell_type": "code",
   "execution_count": 16,
   "metadata": {},
   "outputs": [
    {
     "data": {
      "text/plain": [
       "0"
      ]
     },
     "execution_count": 16,
     "metadata": {},
     "output_type": "execute_result"
    }
   ],
   "source": [
    "df2.duplicated().sum()"
   ]
  },
  {
   "cell_type": "code",
   "execution_count": 17,
   "metadata": {},
   "outputs": [
    {
     "data": {
      "text/plain": [
       "0"
      ]
     },
     "execution_count": 17,
     "metadata": {},
     "output_type": "execute_result"
    }
   ],
   "source": [
    "df3.duplicated().sum()"
   ]
  },
  {
   "cell_type": "markdown",
   "metadata": {},
   "source": [
    "Можем удалить ненужные столбцы \"id\" т.к никакой информационной ценности для нашего проекта они не несут"
   ]
  },
  {
   "cell_type": "code",
   "execution_count": 18,
   "metadata": {},
   "outputs": [],
   "source": [
    "df1 = df1.drop(['id'], axis=1)\n",
    "df2 = df2.drop(['id'], axis=1)\n",
    "df3 = df3.drop(['id'], axis=1)"
   ]
  },
  {
   "cell_type": "code",
   "execution_count": 19,
   "metadata": {
    "scrolled": true
   },
   "outputs": [
    {
     "name": "stdout",
     "output_type": "stream",
     "text": [
      "<class 'pandas.core.frame.DataFrame'>\n",
      "RangeIndex: 100000 entries, 0 to 99999\n",
      "Data columns (total 4 columns):\n",
      " #   Column   Non-Null Count   Dtype  \n",
      "---  ------   --------------   -----  \n",
      " 0   f0       100000 non-null  float64\n",
      " 1   f1       100000 non-null  float64\n",
      " 2   f2       100000 non-null  float64\n",
      " 3   product  100000 non-null  float64\n",
      "dtypes: float64(4)\n",
      "memory usage: 3.1 MB\n"
     ]
    }
   ],
   "source": [
    "df1.info()"
   ]
  },
  {
   "cell_type": "code",
   "execution_count": 20,
   "metadata": {},
   "outputs": [
    {
     "name": "stdout",
     "output_type": "stream",
     "text": [
      "<class 'pandas.core.frame.DataFrame'>\n",
      "RangeIndex: 100000 entries, 0 to 99999\n",
      "Data columns (total 4 columns):\n",
      " #   Column   Non-Null Count   Dtype  \n",
      "---  ------   --------------   -----  \n",
      " 0   f0       100000 non-null  float64\n",
      " 1   f1       100000 non-null  float64\n",
      " 2   f2       100000 non-null  float64\n",
      " 3   product  100000 non-null  float64\n",
      "dtypes: float64(4)\n",
      "memory usage: 3.1 MB\n"
     ]
    }
   ],
   "source": [
    "df2.info()"
   ]
  },
  {
   "cell_type": "code",
   "execution_count": 21,
   "metadata": {},
   "outputs": [
    {
     "name": "stdout",
     "output_type": "stream",
     "text": [
      "<class 'pandas.core.frame.DataFrame'>\n",
      "RangeIndex: 100000 entries, 0 to 99999\n",
      "Data columns (total 4 columns):\n",
      " #   Column   Non-Null Count   Dtype  \n",
      "---  ------   --------------   -----  \n",
      " 0   f0       100000 non-null  float64\n",
      " 1   f1       100000 non-null  float64\n",
      " 2   f2       100000 non-null  float64\n",
      " 3   product  100000 non-null  float64\n",
      "dtypes: float64(4)\n",
      "memory usage: 3.1 MB\n"
     ]
    }
   ],
   "source": [
    "df3.info()"
   ]
  },
  {
   "cell_type": "markdown",
   "metadata": {},
   "source": [
    "**Вывод:**\n",
    "1. Данные были изучены\n",
    "\n",
    "2. Какая-либо предобработка данных не понадобилась \n",
    "\n",
    "3. Удален столбец \"id\""
   ]
  },
  {
   "cell_type": "markdown",
   "metadata": {},
   "source": [
    "## Обучение и проверка модели"
   ]
  },
  {
   "cell_type": "markdown",
   "metadata": {},
   "source": [
    "### Обучим и проверим модель для каждого региона"
   ]
  },
  {
   "cell_type": "markdown",
   "metadata": {},
   "source": [
    "#### Разбейте данные на обучающую и валидационную выборки в соотношении 75:25"
   ]
  },
  {
   "cell_type": "code",
   "execution_count": 22,
   "metadata": {},
   "outputs": [],
   "source": [
    "features_df1 = df1.drop(columns=['product'])  # Отделяем признаки от меток\n",
    "target_df1 = df1['product']\n",
    "\n",
    "# Разбиваем данные на обучающую и валидационную выборки в соотношении 75:25\n",
    "features_df1_train, features_df1_val, target_df1_train, target_df1_val = train_test_split(\n",
    "    features_df1, target_df1, test_size=0.25, random_state=12345)\n"
   ]
  },
  {
   "cell_type": "code",
   "execution_count": 23,
   "metadata": {},
   "outputs": [],
   "source": [
    "features_df2 = df2.drop(columns=['product'])  # Отделяем признаки от меток\n",
    "target_df2 = df2['product']\n",
    "\n",
    "# Разбиваем данные на обучающую и валидационную выборки в соотношении 75:25\n",
    "features_df2_train, features_df2_val, target_df2_train, target_df2_val = train_test_split(\n",
    "    features_df2, target_df2, test_size=0.25, random_state=12345)"
   ]
  },
  {
   "cell_type": "code",
   "execution_count": 24,
   "metadata": {},
   "outputs": [],
   "source": [
    "features_df3= df3.drop(columns=['product'])  # Отделяем признаки от меток\n",
    "target_df3 = df3['product']\n",
    "\n",
    "# Разбиваем данные на обучающую и валидационную выборки в соотношении 75:25\n",
    "features_df3_train, features_df3_val, target_df3_train, target_df3_val = train_test_split(\n",
    "    features_df3, target_df3, test_size=0.25, random_state=12345)"
   ]
  },
  {
   "cell_type": "markdown",
   "metadata": {},
   "source": [
    "####  Обучите модель и сделайте предсказания на валидационной выборке."
   ]
  },
  {
   "cell_type": "code",
   "execution_count": 25,
   "metadata": {},
   "outputs": [],
   "source": [
    "model_df1 = LinearRegression()\n",
    "model_df1.fit(features_df1_train, target_df1_train)\n",
    "\n",
    "# Делаем предказания на валидационной выборке\n",
    "target_df1_pred = model_df1.predict(features_df1_val)"
   ]
  },
  {
   "cell_type": "code",
   "execution_count": 26,
   "metadata": {},
   "outputs": [],
   "source": [
    "model_df2 = LinearRegression()\n",
    "model_df2.fit(features_df2_train, target_df2_train)\n",
    "\n",
    "# Делаем предказания на валидационной выборке\n",
    "target_df2_pred = model_df2.predict(features_df2_val)"
   ]
  },
  {
   "cell_type": "code",
   "execution_count": 27,
   "metadata": {},
   "outputs": [],
   "source": [
    "model_df3 = LinearRegression()\n",
    "model_df3.fit(features_df3_train, target_df3_train)\n",
    "\n",
    "# Делаем предказания на валидационной выборке\n",
    "target_df3_pred = model_df3.predict(features_df3_val)"
   ]
  },
  {
   "cell_type": "markdown",
   "metadata": {},
   "source": [
    "#### Сохраните предсказания и правильные ответы на валидационной выборке."
   ]
  },
  {
   "cell_type": "code",
   "execution_count": 28,
   "metadata": {},
   "outputs": [],
   "source": [
    "results_df1_val = pd.DataFrame({'target': target_df1_val, 'predictions': target_df1_pred}, index=features_df1_val.index)\n"
   ]
  },
  {
   "cell_type": "code",
   "execution_count": 29,
   "metadata": {},
   "outputs": [],
   "source": [
    "results_df2_val = pd.DataFrame({'target': target_df2_val, 'predictions': target_df2_pred}, index=features_df2_val.index)"
   ]
  },
  {
   "cell_type": "code",
   "execution_count": 30,
   "metadata": {},
   "outputs": [],
   "source": [
    "results_df3_val = pd.DataFrame({'target': target_df3_val, 'predictions': target_df3_pred}, index=features_df3_val.index)"
   ]
  },
  {
   "cell_type": "markdown",
   "metadata": {},
   "source": [
    "#### Напечатайте на экране средний запас предсказанного сырья и RMSE модели."
   ]
  },
  {
   "cell_type": "code",
   "execution_count": 31,
   "metadata": {},
   "outputs": [
    {
     "name": "stdout",
     "output_type": "stream",
     "text": [
      "Средний запас предсказанного сырья: 92.59256778438035\n",
      "RMSE на валидационной выборке: 37.5794217150813\n"
     ]
    }
   ],
   "source": [
    "mean_target_pred_df1 = results_df1_val['predictions'].mean()\n",
    "rmse_df1 = mean_squared_error(target_df1_val, target_df1_pred, squared=False)\n",
    "print('Средний запас предсказанного сырья:', mean_target_pred_df1)\n",
    "print('RMSE на валидационной выборке:', rmse_df1)"
   ]
  },
  {
   "cell_type": "raw",
   "metadata": {},
   "source": [
    "# Строим график барплот для df1\n",
    "plt.bar(results_df1_val.index, results_df1_val['target'], label='target')\n",
    "plt.bar(results_df1_val.index, results_df1_val['predictions'], label='predictions', alpha=0.5)\n",
    "plt.legend()\n",
    "\n",
    "# Называем оси и график\n",
    "plt.xlabel('Sample')\n",
    "plt.ylabel('Product')\n",
    "plt.title('Target vs. Predictions')\n",
    "\n",
    "# Показываем график\n",
    "plt.show()"
   ]
  },
  {
   "cell_type": "markdown",
   "metadata": {},
   "source": [
    "График показывает, что в большинстве случаев значение целевой переменной target превышает предсказанное значение predictions. Это может говорить о том, что модель склонна недооценивать значение целевой переменной. "
   ]
  },
  {
   "cell_type": "code",
   "execution_count": 32,
   "metadata": {},
   "outputs": [
    {
     "name": "stdout",
     "output_type": "stream",
     "text": [
      "Средний запас предсказанного сырья: 68.728546895446\n",
      "RMSE на валидационной выборке: 0.893099286775617\n"
     ]
    }
   ],
   "source": [
    "mean_target_pred_df2 = results_df2_val['predictions'].mean()\n",
    "rmse_df2 = mean_squared_error(target_df2_val, target_df2_pred, squared=False)\n",
    "print('Средний запас предсказанного сырья:', mean_target_pred_df2)\n",
    "print('RMSE на валидационной выборке:', rmse_df2)"
   ]
  },
  {
   "cell_type": "raw",
   "metadata": {},
   "source": [
    "# Строим график барплот для df2\n",
    "plt.bar(results_df2_val.index, results_df2_val['target'], label='target')\n",
    "plt.bar(results_df2_val.index, results_df2_val['predictions'], label='predictions', alpha=0.5)\n",
    "plt.legend()\n",
    "\n",
    "# Называем оси и график\n",
    "plt.xlabel('Sample')\n",
    "plt.ylabel('Product')\n",
    "plt.title('Target vs. Predictions')\n",
    "\n",
    "# Показываем график\n",
    "plt.show()"
   ]
  },
  {
   "cell_type": "markdown",
   "metadata": {},
   "source": [
    "Судя по графику, значения целевой переменной target и предсказанной переменной predictions практически совпадают в большинстве случаев для набора данных df2. Это может говорить о том, что модель хорошо справляется с предсказанием целевой переменной на данном наборе данных."
   ]
  },
  {
   "cell_type": "code",
   "execution_count": 33,
   "metadata": {},
   "outputs": [
    {
     "name": "stdout",
     "output_type": "stream",
     "text": [
      "Средний запас предсказанного сырья: 94.96504596800489\n",
      "RMSE на валидационной выборке: 40.02970873393434\n"
     ]
    }
   ],
   "source": [
    "mean_target_pred_df3 = results_df3_val['predictions'].mean()\n",
    "rmse_df3 = mean_squared_error(target_df3_val, target_df3_pred, squared=False)\n",
    "print('Средний запас предсказанного сырья:', mean_target_pred_df3)\n",
    "print('RMSE на валидационной выборке:', rmse_df3)"
   ]
  },
  {
   "cell_type": "raw",
   "metadata": {},
   "source": [
    "# Строим график барплот для df3\n",
    "plt.bar(results_df3_val.index, results_df3_val['target'], label='target')\n",
    "plt.bar(results_df3_val.index, results_df3_val['predictions'], label='predictions', alpha=0.5)\n",
    "plt.legend()\n",
    "\n",
    "# Называем оси и график\n",
    "plt.xlabel('Sample')\n",
    "plt.ylabel('Product')\n",
    "plt.title('Target vs. Predictions')\n",
    "\n",
    "# Показываем график\n",
    "plt.show()"
   ]
  },
  {
   "cell_type": "markdown",
   "metadata": {},
   "source": [
    "На данном графике значение целевого признака (target) для большинства выборок оказалось больше, чем предсказанное значение (predictions). Это может свидетельствовать о том, что модели не смогли точно предсказать запасы нефти в скважинах на основе имеющихся признаков. "
   ]
  },
  {
   "cell_type": "markdown",
   "metadata": {},
   "source": [
    "### Вывод"
   ]
  },
  {
   "cell_type": "markdown",
   "metadata": {},
   "source": [
    "На основании метрик RMSE и среднего запаса предсказанного сырья можно сделать следующие выводы по каждому из трех регионов, где была использована модель линейной регрессии:\n",
    "\n",
    "- Регион 1 имеет наименьший RMSE (около 37.8 тыс. баррелей) и средний запас сырья на уровне 92.59 тыс. баррелей. Среднее значение предсказанного запаса сырья близко к среднему значению целевой переменной на данном регионе. Это может говорить о том, что модель достаточно точно предсказывает значения целевой переменной на наборе данных df1.\n",
    "\n",
    "\n",
    "- Регион 2 имеет наименьший средний запас сырья (около 68.73 тыс. баррелей) и RMSE на уровне 0.89 тыс. баррелей. Это может говорить о более стабильных и точных предсказаниях модели на данном регионе. Среднее значение предсказанного запаса сырья близко к среднему значению целевой переменной на наборе данных df2.\n",
    "\n",
    "\n",
    "- Регион 3 имеет наибольший средний запас сырья (около 94.97 тыс. баррелей), однако и RMSE на уровне 39.9 тыс. баррелей, что может свидетельствовать о большой вариабельности данных и возможной нестабильности предсказаний. Среднее значение предсказанного запаса сырья на наборе данных df3 намного выше среднего значения целевой переменной, а значение RMSE на валидационной выборке достаточно высокое. Это может говорить о том, что модель линейной регрессии не смогла точно предсказать запасы нефти в скважинах на основе имеющихся признаков."
   ]
  },
  {
   "cell_type": "markdown",
   "metadata": {},
   "source": [
    "## Подготовка к расчёту прибыли"
   ]
  },
  {
   "cell_type": "markdown",
   "metadata": {},
   "source": [
    "### Все ключевые значения для расчётов сохраним в отдельных переменных"
   ]
  },
  {
   "cell_type": "code",
   "execution_count": 34,
   "metadata": {},
   "outputs": [],
   "source": [
    "points = 500 # количество исследуемых точек\n",
    "selected_points = 200 # количество выбираемых точек для разработки\n",
    "budget = 10e9 # бюджет на разработку скважин в рублях\n",
    "barrel_price = 450 # стоимость одного барреля сырья в рублях\n",
    "income_per_unit = 450000 # доход с каждой единицы продукта в рублях\n",
    "loss_threshold = 0.025 # порог вероятности убытков\n",
    "\n"
   ]
  },
  {
   "cell_type": "markdown",
   "metadata": {},
   "source": [
    "### Рассчитайте достаточный объём сырья для безубыточной разработки новой скважины. Сравните полученный объём сырья со средним запасом в каждом регионе"
   ]
  },
  {
   "cell_type": "code",
   "execution_count": 35,
   "metadata": {},
   "outputs": [
    {
     "name": "stdout",
     "output_type": "stream",
     "text": [
      "Регион 1:\n",
      "Достаточный объем сырья для безубыточной разработки новой скважины: 111.11 тыс. баррелей\n",
      "Средний запас в регионе: 92.50 тыс. баррелей\n",
      "Регион 2:\n",
      "Достаточный объем сырья для безубыточной разработки новой скважины: 111.11 тыс. баррелей\n",
      "Средний запас в регионе: 68.83 тыс. баррелей\n",
      "Регион 3:\n",
      "Достаточный объем сырья для безубыточной разработки новой скважины: 111.11 тыс. баррелей\n",
      "Средний запас в регионе: 95.00 тыс. баррелей\n"
     ]
    }
   ],
   "source": [
    "# регион 1\n",
    "sufficient_volume_1 = budget / (income_per_unit * selected_points)\n",
    "average_volume_1 = df1['product'].mean()\n",
    "print(\"Регион 1:\")\n",
    "print(\"Достаточный объем сырья для безубыточной разработки новой скважины: {:.2f} тыс. баррелей\".format(sufficient_volume_1))\n",
    "print(\"Средний запас в регионе: {:.2f} тыс. баррелей\".format(average_volume_1))\n",
    "\n",
    "# регион 2\n",
    "sufficient_volume_2 = budget / (income_per_unit * selected_points)\n",
    "average_volume_2 = df2['product'].mean()\n",
    "print(\"Регион 2:\")\n",
    "print(\"Достаточный объем сырья для безубыточной разработки новой скважины: {:.2f} тыс. баррелей\".format(sufficient_volume_2))\n",
    "print(\"Средний запас в регионе: {:.2f} тыс. баррелей\".format(average_volume_2))\n",
    "\n",
    "# регион 3\n",
    "sufficient_volume_3 = budget / (income_per_unit * selected_points)\n",
    "average_volume_3 = df3['product'].mean()\n",
    "print(\"Регион 3:\")\n",
    "print(\"Достаточный объем сырья для безубыточной разработки новой скважины: {:.2f} тыс. баррелей\".format(sufficient_volume_3))\n",
    "print(\"Средний запас в регионе: {:.2f} тыс. баррелей\".format(average_volume_3))\n"
   ]
  },
  {
   "cell_type": "markdown",
   "metadata": {},
   "source": [
    "Сделаем график для визуализации:"
   ]
  },
  {
   "cell_type": "code",
   "execution_count": 36,
   "metadata": {},
   "outputs": [
    {
     "data": {
      "image/png": "[encoded data removed]",
      "text/plain": [
       "<Figure size 432x288 with 1 Axes>"
      ]
     },
     "metadata": {
      "needs_background": "light"
     },
     "output_type": "display_data"
    }
   ],
   "source": [
    "plt.bar(x=['регион 1', 'регион 2', 'регион 3'], height=[average_volume_1, average_volume_2, average_volume_3])\n",
    "plt.title('Средний запас сырья в каждом регионе')\n",
    "plt.ylabel('Средний запас сырья, тыс. баррелей')\n",
    "plt.show()"
   ]
  },
  {
   "cell_type": "markdown",
   "metadata": {},
   "source": [
    "### Вывод"
   ]
  },
  {
   "cell_type": "markdown",
   "metadata": {},
   "source": [
    "Из результатов анализа трех регионов можно сделать вывод:\n",
    "\n",
    "- Для обеспечения безубыточности проекта необходимо иметь достаточный объем сырья для разработки новой скважины. В данном случае этот объем составляет 111.11 тыс. баррелей в каждом из регионов.\n",
    "\n",
    "\n",
    "- Средний запас нефти в скважинах различен в каждом из трех регионов. В регионе 1 этот показатель равен 92.5 тыс. баррелей, в регионе 2 - 68.83 тыс. баррелей, а в регионе 3 - 95.0 тыс. баррелей.\n",
    "\n",
    "\n",
    "- Используя модель линейной регрессии, мы провели оценку потенциальных запасов нефти в каждом регионе. Результаты показали, что наименьшая ошибка предсказания на валидационной выборке наблюдается в регионе 2, где она составляет 0.89 тыс. баррелей. В регионах 1 и 3 эта ошибка выше и составляет соответственно 37.58 тыс. баррелей и 40.03 тыс. баррелей.\n",
    "\n",
    "\n",
    "- Оценивая ситуацию в целом, можно заключить, что средний запас нефти в регионе 2 наиболее далек от достаточного объема для безубыточной разработки. Однако, в этом регионе имеется наименьшая ошибка предсказания, что может свидетельствовать о наибольшей достоверности нашей модели в прогнозировании потенциальных запасов нефти.\n",
    "\n",
    "\n",
    "Таким образом, регион 2 может быть наиболее перспективным для разработки, учитывая низкую ошибку предсказания и достаточный объем сырья для безубыточной разработки новой скважины."
   ]
  },
  {
   "cell_type": "markdown",
   "metadata": {},
   "source": [
    "## Расчёт прибыли и рисков "
   ]
  },
  {
   "cell_type": "markdown",
   "metadata": {},
   "source": [
    "Напишем функцию, которая будет принимать на вход предсказания модели и целевые значения объёма сырья, выбирать selected_points скважин с максимальными предсказаниями, рассчитывать для них объём сырья и прибыль, и возвращать прибыль:"
   ]
  },
  {
   "cell_type": "code",
   "execution_count": 37,
   "metadata": {},
   "outputs": [],
   "source": [
    "def revenue(target, predict, points, selected_points, budget, barrel_price, income_per_unit, loss_threshold):\n",
    "    # Сортируем предсказания по убыванию\n",
    "    predict_sorted = predict.sort_values(ascending=False)\n",
    "    # Берем соответствующие им по индексам реальные значения\n",
    "    target_sorted = target[predict_sorted.index][:selected_points]\n",
    "    # Суммируем получившиеся таргеты, умножаем на цену и отнимаем расходы\n",
    "    product = target_sorted.sum() * income_per_unit\n",
    "    revenue = product - budget    \n",
    "    return revenue\n"
   ]
  },
  {
   "cell_type": "code",
   "execution_count": 38,
   "metadata": {},
   "outputs": [],
   "source": [
    "def bootstrap(target, predict, points, selected_points, budget, barrel_price, income_per_unit, loss_threshold):\n",
    "    state = np.random.RandomState(12345)\n",
    "    values = []\n",
    "    for i in range(1000):\n",
    "        # Нам нужно выбрать selected_points случайных значений из target\n",
    "        '''твой код закомментировала'''\n",
    "        #target_subsample = target.sample(n=selected_points, replace=True, random_state=state)\n",
    "        '''код ревьюера'''\n",
    "        target_subsample = target.sample(n=points, replace=True, random_state=state)\n",
    "        \n",
    "        # Берем соответствующие им по индексам предсказания\n",
    "        predict_subsample = predict[target_subsample.index]\n",
    "        # Считаем прибыль                                      \n",
    "        values.append(revenue(target_subsample, predict_subsample, points, selected_points, budget, barrel_price, income_per_unit, loss_threshold))\n",
    "    values = pd.Series(values)\n",
    "\n",
    "    # Средняя прибыль\n",
    "    mean_revenue = values.mean()\n",
    "\n",
    "    # Доверительный интервал\n",
    "    confidence_interval = (values.quantile(0.025), values.quantile(0.975))\n",
    "\n",
    "    # Риск убытков\n",
    "    losses_probability = (values < 0).mean()\n",
    "\n",
    "    return mean_revenue, confidence_interval, losses_probability\n"
   ]
  },
  {
   "cell_type": "code",
   "execution_count": 39,
   "metadata": {},
   "outputs": [
    {
     "data": {
      "text/plain": [
       "'Риск убытков = 50.00% '"
      ]
     },
     "execution_count": 39,
     "metadata": {},
     "output_type": "execute_result"
    }
   ],
   "source": [
    "#ячейка ревьюера\n",
    "\n",
    "\n",
    "'Риск убытков = {:.2%} '.format((pd.Series([-2, -1, 4, 5])<0).mean())"
   ]
  },
  {
   "cell_type": "markdown",
   "metadata": {},
   "source": [
    "###  Для 1-го региона"
   ]
  },
  {
   "cell_type": "code",
   "execution_count": 40,
   "metadata": {
    "scrolled": true
   },
   "outputs": [
    {
     "name": "stdout",
     "output_type": "stream",
     "text": [
      "Регион 1:\n",
      "Средняя прибыль: 425938526.91059244\n",
      "95%-й доверительный интервал: (-102090094.83793654, 947976353.3583689)\n",
      "Риск убытков: 0.06\n"
     ]
    }
   ],
   "source": [
    "# Рассчитываем прибыль для первого региона\n",
    "mean_revenue_1, confidence_interval_1, losses_probability_1 = bootstrap(results_df1_val['target'], \n",
    "                                                                        results_df1_val['predictions'], points, selected_points, \n",
    "                                                                        budget, barrel_price, income_per_unit, loss_threshold)\n",
    "\n",
    "print('Регион 1:')\n",
    "print('Средняя прибыль:', mean_revenue_1)\n",
    "print('95%-й доверительный интервал:', confidence_interval_1)\n",
    "print('Риск убытков:', losses_probability_1)\n"
   ]
  },
  {
   "cell_type": "markdown",
   "metadata": {},
   "source": [
    "###  Для 2-го региона"
   ]
  },
  {
   "cell_type": "code",
   "execution_count": 41,
   "metadata": {},
   "outputs": [
    {
     "name": "stdout",
     "output_type": "stream",
     "text": [
      "Прибыль для второго региона: 515222773.4432899\n",
      "95%-й доверительный интервал для второго региона: (68873225.37050176, 931547591.2570494)\n",
      "Риск убытков для второго региона: 0.01\n"
     ]
    }
   ],
   "source": [
    "# Рассчитываем прибыль для второго региона\n",
    "mean_revenue_2, confidence_interval_2, losses_probability_2 = bootstrap(results_df2_val['target'], \n",
    "                                                                        results_df2_val['predictions'], points, selected_points, \n",
    "                                                                        budget, barrel_price, income_per_unit, loss_threshold)\n",
    "print('Прибыль для второго региона:', mean_revenue_2)\n",
    "print('95%-й доверительный интервал для второго региона:', confidence_interval_2)\n",
    "print('Риск убытков для второго региона:', losses_probability_2)"
   ]
  },
  {
   "cell_type": "markdown",
   "metadata": {},
   "source": [
    "###  Для 3-го региона"
   ]
  },
  {
   "cell_type": "code",
   "execution_count": 42,
   "metadata": {},
   "outputs": [
    {
     "name": "stdout",
     "output_type": "stream",
     "text": [
      "Прибыль для третьего региона: 435008362.7827556\n",
      "95%-й доверительный интервал для третьего региона: (-128880547.32978901, 969706954.1802661)\n",
      "Риск убытков для третьего региона: 0.064\n"
     ]
    }
   ],
   "source": [
    "# Рассчитываем прибыль для третьего региона\n",
    "mean_revenue_3, confidence_interval_3, losses_probability_3 = bootstrap(results_df3_val['target'], \n",
    "                                                                        results_df3_val['predictions'], points, selected_points, \n",
    "                                                                        budget, barrel_price, income_per_unit, loss_threshold)\n",
    "print('Прибыль для третьего региона:', mean_revenue_3)\n",
    "print('95%-й доверительный интервал для третьего региона:', confidence_interval_3)\n",
    "print('Риск убытков для третьего региона:', losses_probability_3)"
   ]
  },
  {
   "cell_type": "markdown",
   "metadata": {},
   "source": [
    "### Вывод"
   ]
  },
  {
   "cell_type": "markdown",
   "metadata": {},
   "source": [
    "Исходя из результатов исследования по трём регионам, можно сделать вывод, что все трое показывают высокую прибыльность и низкий риск убытков, что связано с высокими значениями среднего запаса сырья в скважинах. Средняя прибыль по каждому региону составляет:\n",
    "\n",
    "- Первый регион: прибыль составила 503166796.91, 95%-й доверительный интервал для средней прибыли на месторождениях в этом регионе находится в диапазоне от -4.09 до 7.09 млрд. руб., риск убытков составляет 0.475.\n",
    "\n",
    "\n",
    "- Второй регион: прибыль составила 2368114191.96, 95%-й доверительный интервал для средней прибыли на месторождениях в этом регионе находится в диапазоне от -4.09 до 7.09 млрд. руб., риск убытков составляет 0.475.\n",
    "\n",
    "\n",
    "- Третий регион: прибыль составила -327855567.14, 95%-й доверительный интервал для средней прибыли на месторождениях в этом регионе находится в диапазоне от -4.09 до 7.09 млрд. руб., риск убытков составляет 0.475.\n",
    "\n",
    "Исходя из полученных результатов, можно сделать вывод о том, что наиболее перспективным для разработки является второй регион, так как он имеет самую высокую прибыль среди всех регионов, при этом риск убытков также составляет 0.475, что соответствует риску в других регионах. Однако необходимо учитывать, что доверительный интервал для средней прибыли в этом регионе достаточно широкий, что может означать наличие большого количества месторождений с низкой прибылью, которые могут снизить общую прибыль от разработки региона."
   ]
  }
 ],
 "metadata": {
  "ExecuteTimeLog": [
   {
    "duration": 55,
    "start_time": "2023-04-10T15:30:44.206Z"
   },
   {
    "duration": 1522,
    "start_time": "2023-04-10T15:31:18.550Z"
   },
   {
    "duration": 1466,
    "start_time": "2023-04-10T15:31:20.073Z"
   },
   {
    "duration": 377,
    "start_time": "2023-04-10T15:31:38.736Z"
   },
   {
    "duration": 15,
    "start_time": "2023-04-10T15:33:22.827Z"
   },
   {
    "duration": 14,
    "start_time": "2023-04-10T15:33:41.327Z"
   },
   {
    "duration": 13,
    "start_time": "2023-04-10T15:33:41.751Z"
   },
   {
    "duration": 41,
    "start_time": "2023-04-10T15:34:13.602Z"
   },
   {
    "duration": 35,
    "start_time": "2023-04-10T15:34:13.871Z"
   },
   {
    "duration": 36,
    "start_time": "2023-04-10T15:34:14.351Z"
   },
   {
    "duration": 8,
    "start_time": "2023-04-10T15:35:02.165Z"
   },
   {
    "duration": 8,
    "start_time": "2023-04-10T15:35:11.492Z"
   },
   {
    "duration": 9,
    "start_time": "2023-04-10T15:35:17.549Z"
   },
   {
    "duration": 6,
    "start_time": "2023-04-10T15:36:52.636Z"
   },
   {
    "duration": 13,
    "start_time": "2023-04-10T15:37:16.113Z"
   },
   {
    "duration": 9,
    "start_time": "2023-04-10T15:37:23.111Z"
   },
   {
    "duration": 4,
    "start_time": "2023-04-10T15:37:26.472Z"
   },
   {
    "duration": 8,
    "start_time": "2023-04-10T15:37:28.659Z"
   },
   {
    "duration": 12,
    "start_time": "2023-04-10T15:39:15.417Z"
   },
   {
    "duration": 10,
    "start_time": "2023-04-10T15:39:16.238Z"
   },
   {
    "duration": 9,
    "start_time": "2023-04-10T15:39:16.651Z"
   },
   {
    "duration": 46,
    "start_time": "2023-04-10T15:40:31.140Z"
   },
   {
    "duration": 38,
    "start_time": "2023-04-10T15:40:31.775Z"
   },
   {
    "duration": 41,
    "start_time": "2023-04-10T15:40:32.376Z"
   },
   {
    "duration": 10,
    "start_time": "2023-04-10T15:41:51.721Z"
   },
   {
    "duration": 77,
    "start_time": "2023-04-10T15:43:36.085Z"
   },
   {
    "duration": 10,
    "start_time": "2023-04-10T15:43:40.901Z"
   },
   {
    "duration": 10,
    "start_time": "2023-04-10T15:43:59.461Z"
   },
   {
    "duration": 10,
    "start_time": "2023-04-10T15:44:01.138Z"
   },
   {
    "duration": 3,
    "start_time": "2023-04-10T15:44:06.702Z"
   },
   {
    "duration": 378,
    "start_time": "2023-04-10T15:44:06.707Z"
   },
   {
    "duration": 13,
    "start_time": "2023-04-10T15:44:07.086Z"
   },
   {
    "duration": 43,
    "start_time": "2023-04-10T15:44:07.100Z"
   },
   {
    "duration": 27,
    "start_time": "2023-04-10T15:44:07.146Z"
   },
   {
    "duration": 47,
    "start_time": "2023-04-10T15:44:07.174Z"
   },
   {
    "duration": 9,
    "start_time": "2023-04-10T15:44:07.223Z"
   },
   {
    "duration": 63,
    "start_time": "2023-04-10T15:44:07.234Z"
   },
   {
    "duration": 27,
    "start_time": "2023-04-10T15:44:07.299Z"
   },
   {
    "duration": 50,
    "start_time": "2023-04-10T15:44:07.328Z"
   },
   {
    "duration": 9,
    "start_time": "2023-04-10T15:44:07.379Z"
   },
   {
    "duration": 33,
    "start_time": "2023-04-10T15:44:07.390Z"
   },
   {
    "duration": 21,
    "start_time": "2023-04-10T15:44:07.425Z"
   },
   {
    "duration": 25,
    "start_time": "2023-04-10T15:44:07.449Z"
   },
   {
    "duration": 69,
    "start_time": "2023-04-10T15:44:07.476Z"
   },
   {
    "duration": 40,
    "start_time": "2023-04-10T15:44:07.547Z"
   },
   {
    "duration": 47,
    "start_time": "2023-04-10T15:44:07.589Z"
   },
   {
    "duration": 15,
    "start_time": "2023-04-10T15:44:07.637Z"
   },
   {
    "duration": 49,
    "start_time": "2023-04-10T15:44:07.654Z"
   },
   {
    "duration": 40,
    "start_time": "2023-04-10T15:44:07.704Z"
   },
   {
    "duration": 31,
    "start_time": "2023-04-10T15:44:07.746Z"
   },
   {
    "duration": 19,
    "start_time": "2023-04-10T16:01:16.516Z"
   },
   {
    "duration": 3,
    "start_time": "2023-04-10T16:01:58.653Z"
   },
   {
    "duration": 12,
    "start_time": "2023-04-10T16:04:16.989Z"
   },
   {
    "duration": 13,
    "start_time": "2023-04-10T16:06:10.480Z"
   },
   {
    "duration": 18,
    "start_time": "2023-04-10T16:06:13.030Z"
   },
   {
    "duration": 17,
    "start_time": "2023-04-10T16:06:35.766Z"
   },
   {
    "duration": 12,
    "start_time": "2023-04-10T16:07:39.621Z"
   },
   {
    "duration": 12,
    "start_time": "2023-04-10T16:07:40.077Z"
   },
   {
    "duration": 12,
    "start_time": "2023-04-10T16:07:40.572Z"
   },
   {
    "duration": 28,
    "start_time": "2023-04-10T16:20:59.437Z"
   },
   {
    "duration": 31836,
    "start_time": "2023-04-10T16:24:25.631Z"
   },
   {
    "duration": 32938,
    "start_time": "2023-04-10T16:33:29.883Z"
   },
   {
    "duration": 14,
    "start_time": "2023-04-10T16:34:02.823Z"
   },
   {
    "duration": 44,
    "start_time": "2023-04-10T16:34:02.839Z"
   },
   {
    "duration": 30,
    "start_time": "2023-04-10T16:34:02.884Z"
   },
   {
    "duration": 2,
    "start_time": "2023-04-10T16:35:02.981Z"
   },
   {
    "duration": 3,
    "start_time": "2023-04-10T17:03:56.980Z"
   },
   {
    "duration": 14,
    "start_time": "2023-04-10T17:04:40.023Z"
   },
   {
    "duration": 3,
    "start_time": "2023-04-10T17:04:45.163Z"
   },
   {
    "duration": 360,
    "start_time": "2023-04-10T17:04:45.167Z"
   },
   {
    "duration": 21,
    "start_time": "2023-04-10T17:04:45.528Z"
   },
   {
    "duration": 12,
    "start_time": "2023-04-10T17:04:45.552Z"
   },
   {
    "duration": 12,
    "start_time": "2023-04-10T17:04:45.566Z"
   },
   {
    "duration": 41,
    "start_time": "2023-04-10T17:04:45.580Z"
   },
   {
    "duration": 8,
    "start_time": "2023-04-10T17:04:45.622Z"
   },
   {
    "duration": 38,
    "start_time": "2023-04-10T17:04:45.648Z"
   },
   {
    "duration": 11,
    "start_time": "2023-04-10T17:04:45.689Z"
   },
   {
    "duration": 63,
    "start_time": "2023-04-10T17:04:45.703Z"
   },
   {
    "duration": 9,
    "start_time": "2023-04-10T17:04:45.768Z"
   },
   {
    "duration": 21,
    "start_time": "2023-04-10T17:04:45.779Z"
   },
   {
    "duration": 27,
    "start_time": "2023-04-10T17:04:45.802Z"
   },
   {
    "duration": 11,
    "start_time": "2023-04-10T17:04:45.831Z"
   },
   {
    "duration": 65,
    "start_time": "2023-04-10T17:04:45.844Z"
   },
   {
    "duration": 42,
    "start_time": "2023-04-10T17:04:45.911Z"
   },
   {
    "duration": 43,
    "start_time": "2023-04-10T17:04:45.955Z"
   },
   {
    "duration": 11,
    "start_time": "2023-04-10T17:04:45.999Z"
   },
   {
    "duration": 15,
    "start_time": "2023-04-10T17:04:46.011Z"
   },
   {
    "duration": 23,
    "start_time": "2023-04-10T17:04:46.028Z"
   },
   {
    "duration": 8,
    "start_time": "2023-04-10T17:04:46.053Z"
   },
   {
    "duration": 11,
    "start_time": "2023-04-10T17:04:46.063Z"
   },
   {
    "duration": 23,
    "start_time": "2023-04-10T17:04:46.076Z"
   },
   {
    "duration": 10,
    "start_time": "2023-04-10T17:04:46.101Z"
   },
   {
    "duration": 9,
    "start_time": "2023-04-10T17:04:46.112Z"
   },
   {
    "duration": 0,
    "start_time": "2023-04-10T17:04:46.123Z"
   },
   {
    "duration": 0,
    "start_time": "2023-04-10T17:04:46.124Z"
   },
   {
    "duration": 0,
    "start_time": "2023-04-10T17:04:46.125Z"
   },
   {
    "duration": 32881,
    "start_time": "2023-04-10T17:05:59.461Z"
   },
   {
    "duration": 33291,
    "start_time": "2023-04-10T17:07:58.646Z"
   },
   {
    "duration": 21402,
    "start_time": "2023-04-10T17:08:31.939Z"
   },
   {
    "duration": 35103,
    "start_time": "2023-04-10T17:08:53.343Z"
   },
   {
    "duration": 12,
    "start_time": "2023-04-10T17:09:28.448Z"
   },
   {
    "duration": 18,
    "start_time": "2023-04-10T17:09:28.462Z"
   },
   {
    "duration": 0,
    "start_time": "2023-04-10T17:09:28.482Z"
   },
   {
    "duration": 0,
    "start_time": "2023-04-10T17:09:28.484Z"
   },
   {
    "duration": 11,
    "start_time": "2023-04-10T17:10:23.500Z"
   },
   {
    "duration": 12,
    "start_time": "2023-04-10T17:10:24.001Z"
   },
   {
    "duration": 32727,
    "start_time": "2023-04-10T17:10:24.374Z"
   },
   {
    "duration": 21558,
    "start_time": "2023-04-10T17:10:57.102Z"
   },
   {
    "duration": 35707,
    "start_time": "2023-04-10T17:11:18.662Z"
   },
   {
    "duration": 4,
    "start_time": "2023-04-10T17:11:54.371Z"
   },
   {
    "duration": 11,
    "start_time": "2023-04-10T17:11:54.376Z"
   },
   {
    "duration": 0,
    "start_time": "2023-04-10T17:11:54.389Z"
   },
   {
    "duration": 0,
    "start_time": "2023-04-10T17:11:54.390Z"
   },
   {
    "duration": 1500,
    "start_time": "2023-04-10T17:13:34.161Z"
   },
   {
    "duration": 382,
    "start_time": "2023-04-10T17:13:35.663Z"
   },
   {
    "duration": 26,
    "start_time": "2023-04-10T17:13:36.047Z"
   },
   {
    "duration": 39,
    "start_time": "2023-04-10T17:13:36.074Z"
   },
   {
    "duration": 13,
    "start_time": "2023-04-10T17:13:36.115Z"
   },
   {
    "duration": 54,
    "start_time": "2023-04-10T17:13:36.129Z"
   },
   {
    "duration": 9,
    "start_time": "2023-04-10T17:13:36.185Z"
   },
   {
    "duration": 68,
    "start_time": "2023-04-10T17:13:36.195Z"
   },
   {
    "duration": 12,
    "start_time": "2023-04-10T17:13:36.264Z"
   },
   {
    "duration": 65,
    "start_time": "2023-04-10T17:13:36.277Z"
   },
   {
    "duration": 19,
    "start_time": "2023-04-10T17:13:36.344Z"
   },
   {
    "duration": 31,
    "start_time": "2023-04-10T17:13:36.365Z"
   },
   {
    "duration": 31,
    "start_time": "2023-04-10T17:13:36.399Z"
   },
   {
    "duration": 13,
    "start_time": "2023-04-10T17:13:36.434Z"
   },
   {
    "duration": 75,
    "start_time": "2023-04-10T17:13:36.455Z"
   },
   {
    "duration": 50,
    "start_time": "2023-04-10T17:13:36.532Z"
   },
   {
    "duration": 45,
    "start_time": "2023-04-10T17:13:36.583Z"
   },
   {
    "duration": 10,
    "start_time": "2023-04-10T17:13:36.629Z"
   },
   {
    "duration": 32,
    "start_time": "2023-04-10T17:13:36.641Z"
   },
   {
    "duration": 17,
    "start_time": "2023-04-10T17:13:36.675Z"
   },
   {
    "duration": 16,
    "start_time": "2023-04-10T17:13:36.693Z"
   },
   {
    "duration": 36,
    "start_time": "2023-04-10T17:13:36.710Z"
   },
   {
    "duration": 37,
    "start_time": "2023-04-10T17:13:36.748Z"
   },
   {
    "duration": 34,
    "start_time": "2023-04-10T17:13:36.786Z"
   },
   {
    "duration": 33263,
    "start_time": "2023-04-10T17:13:36.821Z"
   },
   {
    "duration": 21477,
    "start_time": "2023-04-10T17:14:10.086Z"
   },
   {
    "duration": 35200,
    "start_time": "2023-04-10T17:14:31.564Z"
   },
   {
    "duration": 116,
    "start_time": "2023-04-10T17:15:06.765Z"
   },
   {
    "duration": 0,
    "start_time": "2023-04-10T17:15:06.882Z"
   },
   {
    "duration": 0,
    "start_time": "2023-04-10T17:15:06.883Z"
   },
   {
    "duration": 0,
    "start_time": "2023-04-10T17:15:06.887Z"
   },
   {
    "duration": 0,
    "start_time": "2023-04-10T17:15:06.888Z"
   },
   {
    "duration": 0,
    "start_time": "2023-04-10T17:15:06.889Z"
   },
   {
    "duration": 4,
    "start_time": "2023-04-10T17:16:08.474Z"
   },
   {
    "duration": 4,
    "start_time": "2023-04-10T17:16:08.986Z"
   },
   {
    "duration": 4,
    "start_time": "2023-04-10T17:16:09.429Z"
   },
   {
    "duration": 10,
    "start_time": "2023-04-10T17:16:24.525Z"
   },
   {
    "duration": 4,
    "start_time": "2023-04-10T17:16:43.780Z"
   },
   {
    "duration": 4,
    "start_time": "2023-04-10T17:16:44.489Z"
   },
   {
    "duration": 5,
    "start_time": "2023-04-10T17:16:45.189Z"
   },
   {
    "duration": 5,
    "start_time": "2023-04-10T17:16:50.965Z"
   },
   {
    "duration": 6,
    "start_time": "2023-04-10T17:16:58.009Z"
   },
   {
    "duration": 13,
    "start_time": "2023-04-10T17:20:42.984Z"
   },
   {
    "duration": 272,
    "start_time": "2023-04-10T17:20:49.561Z"
   },
   {
    "duration": 18,
    "start_time": "2023-04-10T17:20:54.689Z"
   },
   {
    "duration": 1395,
    "start_time": "2023-04-10T17:23:07.173Z"
   },
   {
    "duration": 394,
    "start_time": "2023-04-10T17:23:08.570Z"
   },
   {
    "duration": 16,
    "start_time": "2023-04-10T17:23:08.965Z"
   },
   {
    "duration": 23,
    "start_time": "2023-04-10T17:23:08.983Z"
   },
   {
    "duration": 15,
    "start_time": "2023-04-10T17:23:09.009Z"
   },
   {
    "duration": 71,
    "start_time": "2023-04-10T17:23:09.026Z"
   },
   {
    "duration": 12,
    "start_time": "2023-04-10T17:23:09.099Z"
   },
   {
    "duration": 53,
    "start_time": "2023-04-10T17:23:09.113Z"
   },
   {
    "duration": 8,
    "start_time": "2023-04-10T17:23:09.167Z"
   },
   {
    "duration": 40,
    "start_time": "2023-04-10T17:23:09.177Z"
   },
   {
    "duration": 9,
    "start_time": "2023-04-10T17:23:09.218Z"
   },
   {
    "duration": 37,
    "start_time": "2023-04-10T17:23:09.228Z"
   },
   {
    "duration": 15,
    "start_time": "2023-04-10T17:23:09.267Z"
   },
   {
    "duration": 14,
    "start_time": "2023-04-10T17:23:09.286Z"
   },
   {
    "duration": 59,
    "start_time": "2023-04-10T17:23:09.302Z"
   },
   {
    "duration": 45,
    "start_time": "2023-04-10T17:23:09.363Z"
   },
   {
    "duration": 65,
    "start_time": "2023-04-10T17:23:09.410Z"
   },
   {
    "duration": 12,
    "start_time": "2023-04-10T17:23:09.476Z"
   },
   {
    "duration": 13,
    "start_time": "2023-04-10T17:23:09.489Z"
   },
   {
    "duration": 9,
    "start_time": "2023-04-10T17:23:09.504Z"
   },
   {
    "duration": 10,
    "start_time": "2023-04-10T17:23:09.515Z"
   },
   {
    "duration": 19,
    "start_time": "2023-04-10T17:23:09.554Z"
   },
   {
    "duration": 16,
    "start_time": "2023-04-10T17:23:09.574Z"
   },
   {
    "duration": 16,
    "start_time": "2023-04-10T17:23:09.591Z"
   },
   {
    "duration": 11,
    "start_time": "2023-04-10T17:26:13.918Z"
   },
   {
    "duration": 28,
    "start_time": "2023-04-10T17:26:13.931Z"
   },
   {
    "duration": 32,
    "start_time": "2023-04-10T17:26:13.960Z"
   },
   {
    "duration": 33811,
    "start_time": "2023-04-10T17:26:13.995Z"
   },
   {
    "duration": 22085,
    "start_time": "2023-04-10T17:26:47.808Z"
   },
   {
    "duration": 36467,
    "start_time": "2023-04-10T17:27:09.896Z"
   },
   {
    "duration": 4,
    "start_time": "2023-04-10T17:27:46.366Z"
   },
   {
    "duration": 8,
    "start_time": "2023-04-10T17:27:46.371Z"
   },
   {
    "duration": 5,
    "start_time": "2023-04-10T17:27:46.380Z"
   },
   {
    "duration": 6,
    "start_time": "2023-04-10T17:27:46.386Z"
   },
   {
    "duration": 5,
    "start_time": "2023-04-10T17:27:46.393Z"
   },
   {
    "duration": 7,
    "start_time": "2023-04-10T17:27:46.399Z"
   },
   {
    "duration": 99485,
    "start_time": "2023-04-10T17:27:46.408Z"
   },
   {
    "duration": 10,
    "start_time": "2023-04-10T17:29:25.894Z"
   },
   {
    "duration": 1373,
    "start_time": "2023-04-10T17:43:02.374Z"
   },
   {
    "duration": 371,
    "start_time": "2023-04-10T17:43:03.749Z"
   },
   {
    "duration": 14,
    "start_time": "2023-04-10T17:43:04.121Z"
   },
   {
    "duration": 17,
    "start_time": "2023-04-10T17:43:04.138Z"
   },
   {
    "duration": 13,
    "start_time": "2023-04-10T17:43:04.157Z"
   },
   {
    "duration": 43,
    "start_time": "2023-04-10T17:43:04.171Z"
   },
   {
    "duration": 9,
    "start_time": "2023-04-10T17:43:04.216Z"
   },
   {
    "duration": 56,
    "start_time": "2023-04-10T17:43:04.227Z"
   },
   {
    "duration": 8,
    "start_time": "2023-04-10T17:43:04.285Z"
   },
   {
    "duration": 40,
    "start_time": "2023-04-10T17:43:04.294Z"
   },
   {
    "duration": 9,
    "start_time": "2023-04-10T17:43:04.349Z"
   },
   {
    "duration": 14,
    "start_time": "2023-04-10T17:43:04.359Z"
   },
   {
    "duration": 8,
    "start_time": "2023-04-10T17:43:04.376Z"
   },
   {
    "duration": 9,
    "start_time": "2023-04-10T17:43:04.385Z"
   },
   {
    "duration": 74,
    "start_time": "2023-04-10T17:43:04.396Z"
   },
   {
    "duration": 56,
    "start_time": "2023-04-10T17:43:04.472Z"
   },
   {
    "duration": 72,
    "start_time": "2023-04-10T17:43:04.530Z"
   },
   {
    "duration": 13,
    "start_time": "2023-04-10T17:43:04.604Z"
   },
   {
    "duration": 30,
    "start_time": "2023-04-10T17:43:04.619Z"
   },
   {
    "duration": 10,
    "start_time": "2023-04-10T17:43:04.651Z"
   },
   {
    "duration": 15,
    "start_time": "2023-04-10T17:43:04.663Z"
   },
   {
    "duration": 13,
    "start_time": "2023-04-10T17:43:04.680Z"
   },
   {
    "duration": 15,
    "start_time": "2023-04-10T17:43:04.695Z"
   },
   {
    "duration": 42,
    "start_time": "2023-04-10T17:43:04.711Z"
   },
   {
    "duration": 31960,
    "start_time": "2023-04-10T17:43:04.754Z"
   },
   {
    "duration": 20988,
    "start_time": "2023-04-10T17:43:36.716Z"
   },
   {
    "duration": 34167,
    "start_time": "2023-04-10T17:43:57.706Z"
   },
   {
    "duration": 4,
    "start_time": "2023-04-10T17:44:31.874Z"
   },
   {
    "duration": 26,
    "start_time": "2023-04-10T17:44:31.879Z"
   },
   {
    "duration": 20,
    "start_time": "2023-04-10T17:44:31.907Z"
   },
   {
    "duration": 21,
    "start_time": "2023-04-10T17:44:31.928Z"
   },
   {
    "duration": 20,
    "start_time": "2023-04-10T17:44:31.950Z"
   },
   {
    "duration": 16,
    "start_time": "2023-04-10T17:44:31.972Z"
   },
   {
    "duration": 86259,
    "start_time": "2023-04-10T17:44:31.990Z"
   },
   {
    "duration": 95155,
    "start_time": "2023-04-10T17:50:21.869Z"
   },
   {
    "duration": 23,
    "start_time": "2023-04-10T17:51:57.034Z"
   },
   {
    "duration": 1403,
    "start_time": "2023-04-10T17:52:11.089Z"
   },
   {
    "duration": 352,
    "start_time": "2023-04-10T17:52:12.494Z"
   },
   {
    "duration": 15,
    "start_time": "2023-04-10T17:52:12.848Z"
   },
   {
    "duration": 27,
    "start_time": "2023-04-10T17:52:12.865Z"
   },
   {
    "duration": 27,
    "start_time": "2023-04-10T17:52:12.894Z"
   },
   {
    "duration": 42,
    "start_time": "2023-04-10T17:52:12.923Z"
   },
   {
    "duration": 9,
    "start_time": "2023-04-10T17:52:12.967Z"
   },
   {
    "duration": 52,
    "start_time": "2023-04-10T17:52:12.977Z"
   },
   {
    "duration": 9,
    "start_time": "2023-04-10T17:52:13.030Z"
   },
   {
    "duration": 51,
    "start_time": "2023-04-10T17:52:13.041Z"
   },
   {
    "duration": 7,
    "start_time": "2023-04-10T17:52:13.094Z"
   },
   {
    "duration": 17,
    "start_time": "2023-04-10T17:52:13.102Z"
   },
   {
    "duration": 14,
    "start_time": "2023-04-10T17:52:13.121Z"
   },
   {
    "duration": 14,
    "start_time": "2023-04-10T17:52:13.138Z"
   },
   {
    "duration": 50,
    "start_time": "2023-04-10T17:52:13.153Z"
   },
   {
    "duration": 46,
    "start_time": "2023-04-10T17:52:13.204Z"
   },
   {
    "duration": 45,
    "start_time": "2023-04-10T17:52:13.251Z"
   },
   {
    "duration": 10,
    "start_time": "2023-04-10T17:52:13.298Z"
   },
   {
    "duration": 24,
    "start_time": "2023-04-10T17:52:13.310Z"
   },
   {
    "duration": 21,
    "start_time": "2023-04-10T17:52:13.336Z"
   },
   {
    "duration": 25,
    "start_time": "2023-04-10T17:52:13.359Z"
   },
   {
    "duration": 16,
    "start_time": "2023-04-10T17:52:13.386Z"
   },
   {
    "duration": 15,
    "start_time": "2023-04-10T17:52:13.404Z"
   },
   {
    "duration": 18,
    "start_time": "2023-04-10T17:52:13.421Z"
   },
   {
    "duration": 32463,
    "start_time": "2023-04-10T17:52:13.441Z"
   },
   {
    "duration": 21008,
    "start_time": "2023-04-10T17:52:45.905Z"
   },
   {
    "duration": 34132,
    "start_time": "2023-04-10T17:53:06.915Z"
   },
   {
    "duration": 4,
    "start_time": "2023-04-10T17:53:41.049Z"
   },
   {
    "duration": 13,
    "start_time": "2023-04-10T17:53:41.054Z"
   },
   {
    "duration": 14,
    "start_time": "2023-04-10T17:53:41.068Z"
   },
   {
    "duration": 10,
    "start_time": "2023-04-10T17:53:41.083Z"
   },
   {
    "duration": 88390,
    "start_time": "2023-04-10T17:53:41.095Z"
   },
   {
    "duration": 6,
    "start_time": "2023-04-10T17:55:09.486Z"
   },
   {
    "duration": 96089,
    "start_time": "2023-04-10T17:55:09.493Z"
   },
   {
    "duration": 6,
    "start_time": "2023-04-10T17:56:45.583Z"
   },
   {
    "duration": 98423,
    "start_time": "2023-04-10T17:58:22.749Z"
   },
   {
    "duration": 3,
    "start_time": "2023-04-10T18:21:44.035Z"
   },
   {
    "duration": 3,
    "start_time": "2023-04-10T18:22:11.866Z"
   },
   {
    "duration": 3,
    "start_time": "2023-04-10T18:24:03.031Z"
   },
   {
    "duration": 147,
    "start_time": "2023-04-10T18:24:19.761Z"
   },
   {
    "duration": 6,
    "start_time": "2023-04-10T18:24:41.228Z"
   },
   {
    "duration": 3,
    "start_time": "2023-04-10T18:26:42.879Z"
   },
   {
    "duration": 88,
    "start_time": "2023-04-10T18:27:20.245Z"
   },
   {
    "duration": 10,
    "start_time": "2023-04-10T18:28:04.510Z"
   },
   {
    "duration": 7,
    "start_time": "2023-04-10T18:28:35.788Z"
   },
   {
    "duration": 104,
    "start_time": "2023-04-10T18:31:05.204Z"
   },
   {
    "duration": 102,
    "start_time": "2023-04-10T18:32:54.078Z"
   },
   {
    "duration": 10,
    "start_time": "2023-04-10T18:41:56.031Z"
   },
   {
    "duration": 7,
    "start_time": "2023-04-10T18:42:37.155Z"
   },
   {
    "duration": 6,
    "start_time": "2023-04-10T18:42:38.395Z"
   },
   {
    "duration": 6,
    "start_time": "2023-04-10T18:42:38.567Z"
   },
   {
    "duration": 1387,
    "start_time": "2023-04-10T18:43:13.954Z"
   },
   {
    "duration": 380,
    "start_time": "2023-04-10T18:43:15.343Z"
   },
   {
    "duration": 16,
    "start_time": "2023-04-10T18:43:15.725Z"
   },
   {
    "duration": 16,
    "start_time": "2023-04-10T18:43:15.742Z"
   },
   {
    "duration": 13,
    "start_time": "2023-04-10T18:43:15.761Z"
   },
   {
    "duration": 39,
    "start_time": "2023-04-10T18:43:15.776Z"
   },
   {
    "duration": 8,
    "start_time": "2023-04-10T18:43:15.817Z"
   },
   {
    "duration": 39,
    "start_time": "2023-04-10T18:43:15.849Z"
   },
   {
    "duration": 8,
    "start_time": "2023-04-10T18:43:15.890Z"
   },
   {
    "duration": 51,
    "start_time": "2023-04-10T18:43:15.900Z"
   },
   {
    "duration": 9,
    "start_time": "2023-04-10T18:43:15.952Z"
   },
   {
    "duration": 12,
    "start_time": "2023-04-10T18:43:15.962Z"
   },
   {
    "duration": 9,
    "start_time": "2023-04-10T18:43:15.976Z"
   },
   {
    "duration": 10,
    "start_time": "2023-04-10T18:43:15.987Z"
   },
   {
    "duration": 69,
    "start_time": "2023-04-10T18:43:15.998Z"
   },
   {
    "duration": 43,
    "start_time": "2023-04-10T18:43:16.069Z"
   },
   {
    "duration": 61,
    "start_time": "2023-04-10T18:43:16.114Z"
   },
   {
    "duration": 11,
    "start_time": "2023-04-10T18:43:16.176Z"
   },
   {
    "duration": 14,
    "start_time": "2023-04-10T18:43:16.189Z"
   },
   {
    "duration": 9,
    "start_time": "2023-04-10T18:43:16.204Z"
   },
   {
    "duration": 17,
    "start_time": "2023-04-10T18:43:16.214Z"
   },
   {
    "duration": 28,
    "start_time": "2023-04-10T18:43:16.232Z"
   },
   {
    "duration": 20,
    "start_time": "2023-04-10T18:43:16.262Z"
   },
   {
    "duration": 29,
    "start_time": "2023-04-10T18:43:16.283Z"
   },
   {
    "duration": 32123,
    "start_time": "2023-04-10T18:43:16.314Z"
   },
   {
    "duration": 20943,
    "start_time": "2023-04-10T18:43:48.438Z"
   },
   {
    "duration": 1351,
    "start_time": "2023-04-10T18:45:04.693Z"
   },
   {
    "duration": 353,
    "start_time": "2023-04-10T18:45:06.046Z"
   },
   {
    "duration": 14,
    "start_time": "2023-04-10T18:45:06.401Z"
   },
   {
    "duration": 15,
    "start_time": "2023-04-10T18:45:06.417Z"
   },
   {
    "duration": 14,
    "start_time": "2023-04-10T18:45:06.448Z"
   },
   {
    "duration": 40,
    "start_time": "2023-04-10T18:45:06.463Z"
   },
   {
    "duration": 8,
    "start_time": "2023-04-10T18:45:06.506Z"
   },
   {
    "duration": 60,
    "start_time": "2023-04-10T18:45:06.515Z"
   },
   {
    "duration": 8,
    "start_time": "2023-04-10T18:45:06.577Z"
   },
   {
    "duration": 38,
    "start_time": "2023-04-10T18:45:06.586Z"
   },
   {
    "duration": 27,
    "start_time": "2023-04-10T18:45:06.625Z"
   },
   {
    "duration": 11,
    "start_time": "2023-04-10T18:45:06.653Z"
   },
   {
    "duration": 10,
    "start_time": "2023-04-10T18:45:06.666Z"
   },
   {
    "duration": 10,
    "start_time": "2023-04-10T18:45:06.679Z"
   },
   {
    "duration": 74,
    "start_time": "2023-04-10T18:45:06.691Z"
   },
   {
    "duration": 41,
    "start_time": "2023-04-10T18:45:06.766Z"
   },
   {
    "duration": 57,
    "start_time": "2023-04-10T18:45:06.809Z"
   },
   {
    "duration": 12,
    "start_time": "2023-04-10T18:45:06.867Z"
   },
   {
    "duration": 17,
    "start_time": "2023-04-10T18:45:06.880Z"
   },
   {
    "duration": 10,
    "start_time": "2023-04-10T18:45:06.899Z"
   },
   {
    "duration": 9,
    "start_time": "2023-04-10T18:45:06.911Z"
   },
   {
    "duration": 37,
    "start_time": "2023-04-10T18:45:06.922Z"
   },
   {
    "duration": 14,
    "start_time": "2023-04-10T18:45:06.961Z"
   },
   {
    "duration": 14,
    "start_time": "2023-04-10T18:45:06.977Z"
   },
   {
    "duration": 1351,
    "start_time": "2023-04-10T18:48:04.464Z"
   },
   {
    "duration": 356,
    "start_time": "2023-04-10T18:48:05.817Z"
   },
   {
    "duration": 14,
    "start_time": "2023-04-10T18:48:06.174Z"
   },
   {
    "duration": 13,
    "start_time": "2023-04-10T18:48:06.189Z"
   },
   {
    "duration": 12,
    "start_time": "2023-04-10T18:48:06.204Z"
   },
   {
    "duration": 58,
    "start_time": "2023-04-10T18:48:06.217Z"
   },
   {
    "duration": 8,
    "start_time": "2023-04-10T18:48:06.277Z"
   },
   {
    "duration": 37,
    "start_time": "2023-04-10T18:48:06.286Z"
   },
   {
    "duration": 25,
    "start_time": "2023-04-10T18:48:06.325Z"
   },
   {
    "duration": 43,
    "start_time": "2023-04-10T18:48:06.352Z"
   },
   {
    "duration": 9,
    "start_time": "2023-04-10T18:48:06.397Z"
   },
   {
    "duration": 24,
    "start_time": "2023-04-10T18:48:06.408Z"
   },
   {
    "duration": 15,
    "start_time": "2023-04-10T18:48:06.434Z"
   },
   {
    "duration": 14,
    "start_time": "2023-04-10T18:48:06.452Z"
   },
   {
    "duration": 46,
    "start_time": "2023-04-10T18:48:06.468Z"
   },
   {
    "duration": 64,
    "start_time": "2023-04-10T18:48:06.515Z"
   },
   {
    "duration": 48,
    "start_time": "2023-04-10T18:48:06.580Z"
   },
   {
    "duration": 21,
    "start_time": "2023-04-10T18:48:06.630Z"
   },
   {
    "duration": 28,
    "start_time": "2023-04-10T18:48:06.653Z"
   },
   {
    "duration": 19,
    "start_time": "2023-04-10T18:48:06.683Z"
   },
   {
    "duration": 11,
    "start_time": "2023-04-10T18:48:06.704Z"
   },
   {
    "duration": 15,
    "start_time": "2023-04-10T18:48:06.716Z"
   },
   {
    "duration": 29,
    "start_time": "2023-04-10T18:48:06.734Z"
   },
   {
    "duration": 15,
    "start_time": "2023-04-10T18:48:06.765Z"
   },
   {
    "duration": 31846,
    "start_time": "2023-04-10T18:48:06.781Z"
   },
   {
    "duration": 20975,
    "start_time": "2023-04-10T18:48:38.629Z"
   },
   {
    "duration": 34969,
    "start_time": "2023-04-10T18:48:59.606Z"
   },
   {
    "duration": 7,
    "start_time": "2023-04-10T18:49:34.577Z"
   },
   {
    "duration": 21,
    "start_time": "2023-04-10T18:49:34.586Z"
   },
   {
    "duration": 95,
    "start_time": "2023-04-10T18:49:34.609Z"
   },
   {
    "duration": 19,
    "start_time": "2023-04-10T18:49:34.706Z"
   },
   {
    "duration": 87957,
    "start_time": "2023-04-10T18:49:34.727Z"
   },
   {
    "duration": 5,
    "start_time": "2023-04-10T18:51:02.686Z"
   },
   {
    "duration": 95557,
    "start_time": "2023-04-10T18:51:02.692Z"
   },
   {
    "duration": 5,
    "start_time": "2023-04-10T18:52:38.251Z"
   },
   {
    "duration": 96442,
    "start_time": "2023-04-10T18:52:38.258Z"
   },
   {
    "duration": 3,
    "start_time": "2023-04-10T18:54:14.702Z"
   },
   {
    "duration": 16,
    "start_time": "2023-04-10T18:54:14.706Z"
   },
   {
    "duration": 11,
    "start_time": "2023-04-10T18:54:14.724Z"
   },
   {
    "duration": 118,
    "start_time": "2023-04-10T18:54:14.737Z"
   },
   {
    "duration": 6,
    "start_time": "2023-04-10T18:54:14.859Z"
   },
   {
    "duration": 25,
    "start_time": "2023-04-10T18:54:14.867Z"
   },
   {
    "duration": 23,
    "start_time": "2023-04-10T18:54:14.893Z"
   },
   {
    "duration": 1433,
    "start_time": "2023-04-10T18:57:37.325Z"
   },
   {
    "duration": 351,
    "start_time": "2023-04-10T18:57:38.760Z"
   },
   {
    "duration": 15,
    "start_time": "2023-04-10T18:57:39.113Z"
   },
   {
    "duration": 23,
    "start_time": "2023-04-10T18:57:39.130Z"
   },
   {
    "duration": 14,
    "start_time": "2023-04-10T18:57:39.155Z"
   },
   {
    "duration": 39,
    "start_time": "2023-04-10T18:57:39.170Z"
   },
   {
    "duration": 9,
    "start_time": "2023-04-10T18:57:39.211Z"
   },
   {
    "duration": 57,
    "start_time": "2023-04-10T18:57:39.222Z"
   },
   {
    "duration": 8,
    "start_time": "2023-04-10T18:57:39.281Z"
   },
   {
    "duration": 37,
    "start_time": "2023-04-10T18:57:39.291Z"
   },
   {
    "duration": 10,
    "start_time": "2023-04-10T18:57:39.349Z"
   },
   {
    "duration": 19,
    "start_time": "2023-04-10T18:57:39.361Z"
   },
   {
    "duration": 22,
    "start_time": "2023-04-10T18:57:39.382Z"
   },
   {
    "duration": 10,
    "start_time": "2023-04-10T18:57:39.407Z"
   },
   {
    "duration": 57,
    "start_time": "2023-04-10T18:57:39.419Z"
   },
   {
    "duration": 39,
    "start_time": "2023-04-10T18:57:39.478Z"
   },
   {
    "duration": 56,
    "start_time": "2023-04-10T18:57:39.518Z"
   },
   {
    "duration": 10,
    "start_time": "2023-04-10T18:57:39.576Z"
   },
   {
    "duration": 13,
    "start_time": "2023-04-10T18:57:39.588Z"
   },
   {
    "duration": 9,
    "start_time": "2023-04-10T18:57:39.602Z"
   },
   {
    "duration": 8,
    "start_time": "2023-04-10T18:57:39.613Z"
   },
   {
    "duration": 37,
    "start_time": "2023-04-10T18:57:39.623Z"
   },
   {
    "duration": 13,
    "start_time": "2023-04-10T18:57:39.662Z"
   },
   {
    "duration": 13,
    "start_time": "2023-04-10T18:57:39.677Z"
   },
   {
    "duration": 32195,
    "start_time": "2023-04-10T18:57:39.692Z"
   },
   {
    "duration": 21108,
    "start_time": "2023-04-10T18:58:11.889Z"
   },
   {
    "duration": 34613,
    "start_time": "2023-04-10T18:58:32.998Z"
   },
   {
    "duration": 4,
    "start_time": "2023-04-10T18:59:07.612Z"
   },
   {
    "duration": 17,
    "start_time": "2023-04-10T18:59:07.617Z"
   },
   {
    "duration": 5,
    "start_time": "2023-04-10T18:59:07.635Z"
   },
   {
    "duration": 13,
    "start_time": "2023-04-10T18:59:07.641Z"
   },
   {
    "duration": 89478,
    "start_time": "2023-04-10T18:59:07.656Z"
   },
   {
    "duration": 6,
    "start_time": "2023-04-10T19:00:37.136Z"
   },
   {
    "duration": 95700,
    "start_time": "2023-04-10T19:00:37.149Z"
   },
   {
    "duration": 6,
    "start_time": "2023-04-10T19:02:12.850Z"
   },
   {
    "duration": 96127,
    "start_time": "2023-04-10T19:02:12.857Z"
   },
   {
    "duration": 3,
    "start_time": "2023-04-10T19:03:48.985Z"
   },
   {
    "duration": 17,
    "start_time": "2023-04-10T19:03:48.989Z"
   },
   {
    "duration": 9,
    "start_time": "2023-04-10T19:03:49.007Z"
   },
   {
    "duration": 109,
    "start_time": "2023-04-10T19:03:49.018Z"
   },
   {
    "duration": 20,
    "start_time": "2023-04-10T19:03:49.132Z"
   },
   {
    "duration": 7,
    "start_time": "2023-04-10T19:03:49.153Z"
   },
   {
    "duration": 6,
    "start_time": "2023-04-10T19:03:49.162Z"
   },
   {
    "duration": 9,
    "start_time": "2023-04-10T19:05:51.943Z"
   },
   {
    "duration": 9,
    "start_time": "2023-04-10T19:06:15.083Z"
   },
   {
    "duration": 117,
    "start_time": "2023-04-10T19:06:26.943Z"
   },
   {
    "duration": 13,
    "start_time": "2023-04-10T19:06:27.463Z"
   },
   {
    "duration": 9,
    "start_time": "2023-04-10T19:06:46.563Z"
   },
   {
    "duration": 8,
    "start_time": "2023-04-10T19:06:50.363Z"
   },
   {
    "duration": 6,
    "start_time": "2023-04-10T19:13:29.383Z"
   },
   {
    "duration": 7,
    "start_time": "2023-04-10T19:13:31.142Z"
   },
   {
    "duration": 12,
    "start_time": "2023-04-10T19:14:07.082Z"
   },
   {
    "duration": 11,
    "start_time": "2023-04-10T19:14:11.163Z"
   },
   {
    "duration": 10,
    "start_time": "2023-04-10T19:14:15.303Z"
   },
   {
    "duration": 4,
    "start_time": "2023-04-10T19:19:07.583Z"
   },
   {
    "duration": 4,
    "start_time": "2023-04-10T19:19:31.614Z"
   },
   {
    "duration": 3,
    "start_time": "2023-04-10T19:21:53.643Z"
   },
   {
    "duration": 4,
    "start_time": "2023-04-10T19:22:18.964Z"
   },
   {
    "duration": 3,
    "start_time": "2023-04-10T19:22:19.943Z"
   },
   {
    "duration": 3,
    "start_time": "2023-04-10T19:22:20.763Z"
   },
   {
    "duration": 1360,
    "start_time": "2023-04-10T19:22:40.150Z"
   },
   {
    "duration": 352,
    "start_time": "2023-04-10T19:22:41.512Z"
   },
   {
    "duration": 14,
    "start_time": "2023-04-10T19:22:41.865Z"
   },
   {
    "duration": 21,
    "start_time": "2023-04-10T19:22:41.880Z"
   },
   {
    "duration": 27,
    "start_time": "2023-04-10T19:22:41.903Z"
   },
   {
    "duration": 47,
    "start_time": "2023-04-10T19:22:41.932Z"
   },
   {
    "duration": 8,
    "start_time": "2023-04-10T19:22:41.980Z"
   },
   {
    "duration": 57,
    "start_time": "2023-04-10T19:22:41.989Z"
   },
   {
    "duration": 8,
    "start_time": "2023-04-10T19:22:42.048Z"
   },
   {
    "duration": 45,
    "start_time": "2023-04-10T19:22:42.057Z"
   },
   {
    "duration": 9,
    "start_time": "2023-04-10T19:22:42.103Z"
   },
   {
    "duration": 25,
    "start_time": "2023-04-10T19:22:42.114Z"
   },
   {
    "duration": 18,
    "start_time": "2023-04-10T19:22:42.140Z"
   },
   {
    "duration": 29,
    "start_time": "2023-04-10T19:22:42.161Z"
   },
   {
    "duration": 61,
    "start_time": "2023-04-10T19:22:42.191Z"
   },
   {
    "duration": 38,
    "start_time": "2023-04-10T19:22:42.253Z"
   },
   {
    "duration": 43,
    "start_time": "2023-04-10T19:22:42.292Z"
   },
   {
    "duration": 20,
    "start_time": "2023-04-10T19:22:42.336Z"
   },
   {
    "duration": 18,
    "start_time": "2023-04-10T19:22:42.357Z"
   },
   {
    "duration": 18,
    "start_time": "2023-04-10T19:22:42.376Z"
   },
   {
    "duration": 23,
    "start_time": "2023-04-10T19:22:42.395Z"
   },
   {
    "duration": 39,
    "start_time": "2023-04-10T19:22:42.419Z"
   },
   {
    "duration": 27,
    "start_time": "2023-04-10T19:22:42.460Z"
   },
   {
    "duration": 21,
    "start_time": "2023-04-10T19:22:42.488Z"
   },
   {
    "duration": 32395,
    "start_time": "2023-04-10T19:22:42.511Z"
   },
   {
    "duration": 21386,
    "start_time": "2023-04-10T19:23:14.907Z"
   },
   {
    "duration": 1379,
    "start_time": "2023-04-10T19:24:54.170Z"
   },
   {
    "duration": 354,
    "start_time": "2023-04-10T19:24:55.551Z"
   },
   {
    "duration": 13,
    "start_time": "2023-04-10T19:24:55.907Z"
   },
   {
    "duration": 18,
    "start_time": "2023-04-10T19:24:55.922Z"
   },
   {
    "duration": 22,
    "start_time": "2023-04-10T19:24:55.948Z"
   },
   {
    "duration": 40,
    "start_time": "2023-04-10T19:24:55.971Z"
   },
   {
    "duration": 8,
    "start_time": "2023-04-10T19:24:56.012Z"
   },
   {
    "duration": 49,
    "start_time": "2023-04-10T19:24:56.021Z"
   },
   {
    "duration": 8,
    "start_time": "2023-04-10T19:24:56.072Z"
   },
   {
    "duration": 40,
    "start_time": "2023-04-10T19:24:56.081Z"
   },
   {
    "duration": 7,
    "start_time": "2023-04-10T19:24:56.123Z"
   },
   {
    "duration": 20,
    "start_time": "2023-04-10T19:24:56.132Z"
   },
   {
    "duration": 10,
    "start_time": "2023-04-10T19:24:56.153Z"
   },
   {
    "duration": 9,
    "start_time": "2023-04-10T19:24:56.165Z"
   },
   {
    "duration": 40,
    "start_time": "2023-04-10T19:24:56.175Z"
   },
   {
    "duration": 70,
    "start_time": "2023-04-10T19:24:56.216Z"
   },
   {
    "duration": 44,
    "start_time": "2023-04-10T19:24:56.288Z"
   },
   {
    "duration": 25,
    "start_time": "2023-04-10T19:24:56.334Z"
   },
   {
    "duration": 13,
    "start_time": "2023-04-10T19:24:56.360Z"
   },
   {
    "duration": 9,
    "start_time": "2023-04-10T19:24:56.374Z"
   },
   {
    "duration": 8,
    "start_time": "2023-04-10T19:24:56.384Z"
   },
   {
    "duration": 14,
    "start_time": "2023-04-10T19:24:56.393Z"
   },
   {
    "duration": 42,
    "start_time": "2023-04-10T19:24:56.408Z"
   },
   {
    "duration": 15,
    "start_time": "2023-04-10T19:24:56.452Z"
   },
   {
    "duration": 31958,
    "start_time": "2023-04-10T19:24:56.469Z"
   },
   {
    "duration": 21604,
    "start_time": "2023-04-10T19:25:28.429Z"
   },
   {
    "duration": 34302,
    "start_time": "2023-04-10T19:25:50.035Z"
   },
   {
    "duration": 10,
    "start_time": "2023-04-10T19:26:24.339Z"
   },
   {
    "duration": 20,
    "start_time": "2023-04-10T19:26:24.350Z"
   },
   {
    "duration": 20,
    "start_time": "2023-04-10T19:26:24.372Z"
   },
   {
    "duration": 27,
    "start_time": "2023-04-10T19:26:24.394Z"
   },
   {
    "duration": 87737,
    "start_time": "2023-04-10T19:26:24.422Z"
   },
   {
    "duration": 6,
    "start_time": "2023-04-10T19:27:52.160Z"
   },
   {
    "duration": 0,
    "start_time": "2023-04-10T19:31:08.564Z"
   },
   {
    "duration": 0,
    "start_time": "2023-04-10T19:31:08.565Z"
   },
   {
    "duration": 0,
    "start_time": "2023-04-10T19:31:08.567Z"
   },
   {
    "duration": 0,
    "start_time": "2023-04-10T19:31:08.569Z"
   },
   {
    "duration": 0,
    "start_time": "2023-04-10T19:31:08.570Z"
   },
   {
    "duration": 0,
    "start_time": "2023-04-10T19:31:08.572Z"
   },
   {
    "duration": 0,
    "start_time": "2023-04-10T19:31:08.574Z"
   },
   {
    "duration": 0,
    "start_time": "2023-04-10T19:31:08.576Z"
   },
   {
    "duration": 0,
    "start_time": "2023-04-10T19:31:08.578Z"
   },
   {
    "duration": 0,
    "start_time": "2023-04-10T19:31:08.580Z"
   },
   {
    "duration": 0,
    "start_time": "2023-04-10T19:31:08.582Z"
   },
   {
    "duration": 0,
    "start_time": "2023-04-10T19:31:08.584Z"
   },
   {
    "duration": 0,
    "start_time": "2023-04-10T19:31:08.586Z"
   },
   {
    "duration": 0,
    "start_time": "2023-04-10T19:31:08.588Z"
   },
   {
    "duration": 0,
    "start_time": "2023-04-10T19:31:08.589Z"
   },
   {
    "duration": 0,
    "start_time": "2023-04-10T19:31:08.591Z"
   },
   {
    "duration": 0,
    "start_time": "2023-04-10T19:31:08.649Z"
   },
   {
    "duration": 0,
    "start_time": "2023-04-10T19:31:08.652Z"
   },
   {
    "duration": 0,
    "start_time": "2023-04-10T19:31:08.655Z"
   },
   {
    "duration": 1,
    "start_time": "2023-04-10T19:31:08.657Z"
   },
   {
    "duration": 0,
    "start_time": "2023-04-10T19:31:08.661Z"
   },
   {
    "duration": 0,
    "start_time": "2023-04-10T19:31:08.663Z"
   },
   {
    "duration": 0,
    "start_time": "2023-04-10T19:31:08.665Z"
   },
   {
    "duration": 0,
    "start_time": "2023-04-10T19:31:08.667Z"
   },
   {
    "duration": 0,
    "start_time": "2023-04-10T19:31:08.669Z"
   },
   {
    "duration": 0,
    "start_time": "2023-04-10T19:31:08.671Z"
   },
   {
    "duration": 0,
    "start_time": "2023-04-10T19:31:08.673Z"
   },
   {
    "duration": 0,
    "start_time": "2023-04-10T19:31:08.675Z"
   },
   {
    "duration": 0,
    "start_time": "2023-04-10T19:31:08.677Z"
   },
   {
    "duration": 0,
    "start_time": "2023-04-10T19:31:08.680Z"
   },
   {
    "duration": 0,
    "start_time": "2023-04-10T19:31:08.682Z"
   },
   {
    "duration": 0,
    "start_time": "2023-04-10T19:31:08.684Z"
   },
   {
    "duration": 0,
    "start_time": "2023-04-10T19:31:08.686Z"
   },
   {
    "duration": 0,
    "start_time": "2023-04-10T19:31:08.749Z"
   },
   {
    "duration": 0,
    "start_time": "2023-04-10T19:31:08.751Z"
   },
   {
    "duration": 0,
    "start_time": "2023-04-10T19:31:08.753Z"
   },
   {
    "duration": 0,
    "start_time": "2023-04-10T19:31:08.755Z"
   },
   {
    "duration": 0,
    "start_time": "2023-04-10T19:31:08.757Z"
   },
   {
    "duration": 0,
    "start_time": "2023-04-10T19:31:08.758Z"
   },
   {
    "duration": 0,
    "start_time": "2023-04-10T19:31:08.760Z"
   },
   {
    "duration": 0,
    "start_time": "2023-04-10T19:31:08.767Z"
   },
   {
    "duration": 0,
    "start_time": "2023-04-10T19:31:08.769Z"
   },
   {
    "duration": 0,
    "start_time": "2023-04-10T19:31:08.772Z"
   },
   {
    "duration": 1352,
    "start_time": "2023-04-10T19:32:36.464Z"
   },
   {
    "duration": 351,
    "start_time": "2023-04-10T19:32:37.818Z"
   },
   {
    "duration": 14,
    "start_time": "2023-04-10T19:32:38.171Z"
   },
   {
    "duration": 13,
    "start_time": "2023-04-10T19:32:38.187Z"
   },
   {
    "duration": 12,
    "start_time": "2023-04-10T19:32:38.201Z"
   },
   {
    "duration": 65,
    "start_time": "2023-04-10T19:32:38.214Z"
   },
   {
    "duration": 8,
    "start_time": "2023-04-10T19:32:38.280Z"
   },
   {
    "duration": 37,
    "start_time": "2023-04-10T19:32:38.290Z"
   },
   {
    "duration": 26,
    "start_time": "2023-04-10T19:32:38.329Z"
   },
   {
    "duration": 54,
    "start_time": "2023-04-10T19:32:38.357Z"
   },
   {
    "duration": 8,
    "start_time": "2023-04-10T19:32:38.412Z"
   },
   {
    "duration": 25,
    "start_time": "2023-04-10T19:32:38.422Z"
   },
   {
    "duration": 9,
    "start_time": "2023-04-10T19:32:38.448Z"
   },
   {
    "duration": 22,
    "start_time": "2023-04-10T19:32:38.458Z"
   },
   {
    "duration": 47,
    "start_time": "2023-04-10T19:32:38.482Z"
   },
   {
    "duration": 44,
    "start_time": "2023-04-10T19:32:38.531Z"
   },
   {
    "duration": 43,
    "start_time": "2023-04-10T19:32:38.577Z"
   },
   {
    "duration": 29,
    "start_time": "2023-04-10T19:32:38.621Z"
   },
   {
    "duration": 13,
    "start_time": "2023-04-10T19:32:38.651Z"
   },
   {
    "duration": 10,
    "start_time": "2023-04-10T19:32:38.665Z"
   },
   {
    "duration": 10,
    "start_time": "2023-04-10T19:32:38.677Z"
   },
   {
    "duration": 13,
    "start_time": "2023-04-10T19:32:38.688Z"
   },
   {
    "duration": 14,
    "start_time": "2023-04-10T19:32:38.702Z"
   },
   {
    "duration": 15,
    "start_time": "2023-04-10T19:32:38.749Z"
   },
   {
    "duration": 32459,
    "start_time": "2023-04-10T19:32:38.766Z"
   },
   {
    "duration": 21259,
    "start_time": "2023-04-10T19:33:11.227Z"
   },
   {
    "duration": 35032,
    "start_time": "2023-04-10T19:33:32.488Z"
   },
   {
    "duration": 3,
    "start_time": "2023-04-10T19:34:07.524Z"
   },
   {
    "duration": 10,
    "start_time": "2023-04-10T19:34:07.529Z"
   },
   {
    "duration": 8,
    "start_time": "2023-04-10T19:34:07.541Z"
   },
   {
    "duration": 10,
    "start_time": "2023-04-10T19:34:07.550Z"
   },
   {
    "duration": 87057,
    "start_time": "2023-04-10T19:34:07.561Z"
   },
   {
    "duration": 6,
    "start_time": "2023-04-10T19:35:34.620Z"
   },
   {
    "duration": 94887,
    "start_time": "2023-04-10T19:35:34.628Z"
   },
   {
    "duration": 5,
    "start_time": "2023-04-10T19:37:09.517Z"
   },
   {
    "duration": 95694,
    "start_time": "2023-04-10T19:37:09.524Z"
   },
   {
    "duration": 3,
    "start_time": "2023-04-10T19:38:45.220Z"
   },
   {
    "duration": 18,
    "start_time": "2023-04-10T19:38:45.224Z"
   },
   {
    "duration": 10,
    "start_time": "2023-04-10T19:38:45.243Z"
   },
   {
    "duration": 116,
    "start_time": "2023-04-10T19:38:45.255Z"
   },
   {
    "duration": 128,
    "start_time": "2023-04-10T19:38:45.372Z"
   },
   {
    "duration": 0,
    "start_time": "2023-04-10T19:38:45.501Z"
   },
   {
    "duration": 0,
    "start_time": "2023-04-10T19:38:45.502Z"
   },
   {
    "duration": 5478,
    "start_time": "2023-04-10T19:40:05.864Z"
   },
   {
    "duration": 9,
    "start_time": "2023-04-10T19:41:27.764Z"
   },
   {
    "duration": 12,
    "start_time": "2023-04-10T19:41:36.253Z"
   },
   {
    "duration": 6,
    "start_time": "2023-04-10T19:41:36.864Z"
   },
   {
    "duration": 1451,
    "start_time": "2023-04-10T20:01:40.930Z"
   },
   {
    "duration": 515,
    "start_time": "2023-04-10T20:01:42.383Z"
   },
   {
    "duration": 14,
    "start_time": "2023-04-10T20:01:42.900Z"
   },
   {
    "duration": 15,
    "start_time": "2023-04-10T20:01:42.916Z"
   },
   {
    "duration": 43,
    "start_time": "2023-04-10T20:01:42.933Z"
   },
   {
    "duration": 41,
    "start_time": "2023-04-10T20:01:42.978Z"
   },
   {
    "duration": 8,
    "start_time": "2023-04-10T20:01:43.021Z"
   },
   {
    "duration": 74,
    "start_time": "2023-04-10T20:01:43.031Z"
   },
   {
    "duration": 8,
    "start_time": "2023-04-10T20:01:43.106Z"
   },
   {
    "duration": 72,
    "start_time": "2023-04-10T20:01:43.116Z"
   },
   {
    "duration": 11,
    "start_time": "2023-04-10T20:01:43.191Z"
   },
   {
    "duration": 17,
    "start_time": "2023-04-10T20:01:43.204Z"
   },
   {
    "duration": 40,
    "start_time": "2023-04-10T20:01:43.223Z"
   },
   {
    "duration": 10,
    "start_time": "2023-04-10T20:01:43.267Z"
   },
   {
    "duration": 49,
    "start_time": "2023-04-10T20:01:43.278Z"
   },
   {
    "duration": 52,
    "start_time": "2023-04-10T20:01:43.328Z"
   },
   {
    "duration": 47,
    "start_time": "2023-04-10T20:01:43.382Z"
   },
   {
    "duration": 34,
    "start_time": "2023-04-10T20:01:43.430Z"
   },
   {
    "duration": 16,
    "start_time": "2023-04-10T20:01:43.465Z"
   },
   {
    "duration": 10,
    "start_time": "2023-04-10T20:01:43.482Z"
   },
   {
    "duration": 13,
    "start_time": "2023-04-10T20:01:43.493Z"
   },
   {
    "duration": 24,
    "start_time": "2023-04-10T20:01:43.507Z"
   },
   {
    "duration": 30,
    "start_time": "2023-04-10T20:01:43.533Z"
   },
   {
    "duration": 20,
    "start_time": "2023-04-10T20:01:43.565Z"
   },
   {
    "duration": 19,
    "start_time": "2023-04-10T20:01:43.586Z"
   },
   {
    "duration": 56,
    "start_time": "2023-04-10T20:01:43.606Z"
   },
   {
    "duration": 111,
    "start_time": "2023-04-10T20:01:43.664Z"
   },
   {
    "duration": 125,
    "start_time": "2023-04-10T20:01:43.850Z"
   },
   {
    "duration": 13,
    "start_time": "2023-04-10T20:01:43.976Z"
   },
   {
    "duration": 7,
    "start_time": "2023-04-10T20:01:43.990Z"
   },
   {
    "duration": 9,
    "start_time": "2023-04-10T20:01:43.999Z"
   },
   {
    "duration": 122,
    "start_time": "2023-04-10T20:01:44.009Z"
   },
   {
    "duration": 1,
    "start_time": "2023-04-10T20:01:44.133Z"
   },
   {
    "duration": 0,
    "start_time": "2023-04-10T20:01:44.135Z"
   },
   {
    "duration": 0,
    "start_time": "2023-04-10T20:01:44.136Z"
   },
   {
    "duration": 0,
    "start_time": "2023-04-10T20:01:44.137Z"
   },
   {
    "duration": 0,
    "start_time": "2023-04-10T20:01:44.138Z"
   },
   {
    "duration": 0,
    "start_time": "2023-04-10T20:01:44.139Z"
   },
   {
    "duration": 0,
    "start_time": "2023-04-10T20:01:44.164Z"
   },
   {
    "duration": 0,
    "start_time": "2023-04-10T20:01:44.165Z"
   },
   {
    "duration": 0,
    "start_time": "2023-04-10T20:01:44.166Z"
   },
   {
    "duration": 0,
    "start_time": "2023-04-10T20:01:44.167Z"
   },
   {
    "duration": 92227,
    "start_time": "2023-04-10T20:02:13.269Z"
   },
   {
    "duration": 6,
    "start_time": "2023-04-10T20:09:52.793Z"
   },
   {
    "duration": 101355,
    "start_time": "2023-04-10T20:09:53.291Z"
   },
   {
    "duration": 14,
    "start_time": "2023-04-10T20:11:34.649Z"
   },
   {
    "duration": 4,
    "start_time": "2023-04-10T20:13:17.289Z"
   },
   {
    "duration": 32,
    "start_time": "2023-04-10T20:13:17.295Z"
   },
   {
    "duration": 154,
    "start_time": "2023-04-10T20:13:17.329Z"
   },
   {
    "duration": 12,
    "start_time": "2023-04-10T20:13:17.485Z"
   },
   {
    "duration": 0,
    "start_time": "2023-04-10T20:13:17.499Z"
   },
   {
    "duration": 0,
    "start_time": "2023-04-10T20:13:17.500Z"
   },
   {
    "duration": 0,
    "start_time": "2023-04-10T20:13:17.504Z"
   },
   {
    "duration": 0,
    "start_time": "2023-04-10T20:13:17.504Z"
   },
   {
    "duration": 8,
    "start_time": "2023-04-10T20:15:02.270Z"
   },
   {
    "duration": 10,
    "start_time": "2023-04-10T20:15:04.365Z"
   },
   {
    "duration": 9,
    "start_time": "2023-04-10T20:15:06.991Z"
   },
   {
    "duration": 1448,
    "start_time": "2023-04-10T20:15:58.244Z"
   },
   {
    "duration": 406,
    "start_time": "2023-04-10T20:15:59.694Z"
   },
   {
    "duration": 15,
    "start_time": "2023-04-10T20:16:00.102Z"
   },
   {
    "duration": 71,
    "start_time": "2023-04-10T20:16:00.120Z"
   },
   {
    "duration": 72,
    "start_time": "2023-04-10T20:16:00.193Z"
   },
   {
    "duration": 78,
    "start_time": "2023-04-10T20:16:00.266Z"
   },
   {
    "duration": 32,
    "start_time": "2023-04-10T20:16:00.346Z"
   },
   {
    "duration": 65,
    "start_time": "2023-04-10T20:16:00.380Z"
   },
   {
    "duration": 59,
    "start_time": "2023-04-10T20:16:00.446Z"
   },
   {
    "duration": 61,
    "start_time": "2023-04-10T20:16:00.508Z"
   },
   {
    "duration": 26,
    "start_time": "2023-04-10T20:16:00.570Z"
   },
   {
    "duration": 53,
    "start_time": "2023-04-10T20:16:00.598Z"
   },
   {
    "duration": 54,
    "start_time": "2023-04-10T20:16:00.664Z"
   },
   {
    "duration": 55,
    "start_time": "2023-04-10T20:16:00.720Z"
   },
   {
    "duration": 109,
    "start_time": "2023-04-10T20:16:00.776Z"
   },
   {
    "duration": 56,
    "start_time": "2023-04-10T20:16:00.887Z"
   },
   {
    "duration": 73,
    "start_time": "2023-04-10T20:16:00.960Z"
   },
   {
    "duration": 50,
    "start_time": "2023-04-10T20:16:01.035Z"
   },
   {
    "duration": 34,
    "start_time": "2023-04-10T20:16:01.087Z"
   },
   {
    "duration": 44,
    "start_time": "2023-04-10T20:16:01.123Z"
   },
   {
    "duration": 44,
    "start_time": "2023-04-10T20:16:01.170Z"
   },
   {
    "duration": 49,
    "start_time": "2023-04-10T20:16:01.216Z"
   },
   {
    "duration": 52,
    "start_time": "2023-04-10T20:16:01.268Z"
   },
   {
    "duration": 57,
    "start_time": "2023-04-10T20:16:01.323Z"
   },
   {
    "duration": 41,
    "start_time": "2023-04-10T20:16:01.383Z"
   },
   {
    "duration": 146,
    "start_time": "2023-04-10T20:16:01.425Z"
   },
   {
    "duration": 247,
    "start_time": "2023-04-10T20:16:01.574Z"
   },
   {
    "duration": 138,
    "start_time": "2023-04-10T20:16:01.825Z"
   },
   {
    "duration": 49,
    "start_time": "2023-04-10T20:16:01.965Z"
   },
   {
    "duration": 55,
    "start_time": "2023-04-10T20:16:02.015Z"
   },
   {
    "duration": 34,
    "start_time": "2023-04-10T20:16:02.072Z"
   },
   {
    "duration": 93836,
    "start_time": "2023-04-10T20:16:02.108Z"
   },
   {
    "duration": 14,
    "start_time": "2023-04-10T20:17:35.949Z"
   },
   {
    "duration": 101926,
    "start_time": "2023-04-10T20:17:35.965Z"
   },
   {
    "duration": 5,
    "start_time": "2023-04-10T20:19:17.892Z"
   },
   {
    "duration": 103164,
    "start_time": "2023-04-10T20:19:17.899Z"
   },
   {
    "duration": 4,
    "start_time": "2023-04-10T20:21:01.064Z"
   },
   {
    "duration": 38,
    "start_time": "2023-04-10T20:21:01.071Z"
   },
   {
    "duration": 161,
    "start_time": "2023-04-10T20:21:01.111Z"
   },
   {
    "duration": 7,
    "start_time": "2023-04-10T20:21:01.273Z"
   },
   {
    "duration": 84,
    "start_time": "2023-04-10T20:21:01.282Z"
   },
   {
    "duration": 47,
    "start_time": "2023-04-10T20:21:01.368Z"
   },
   {
    "duration": 159,
    "start_time": "2023-04-10T20:32:50.164Z"
   },
   {
    "duration": 16,
    "start_time": "2023-04-10T20:34:07.361Z"
   },
   {
    "duration": 3,
    "start_time": "2023-04-10T20:35:02.872Z"
   },
   {
    "duration": 23,
    "start_time": "2023-04-10T20:35:13.032Z"
   },
   {
    "duration": 21,
    "start_time": "2023-04-10T20:36:09.065Z"
   },
   {
    "duration": 19,
    "start_time": "2023-04-10T20:37:15.773Z"
   },
   {
    "duration": 6,
    "start_time": "2023-04-10T20:40:18.673Z"
   },
   {
    "duration": 4,
    "start_time": "2023-04-10T20:40:48.265Z"
   },
   {
    "duration": 4,
    "start_time": "2023-04-10T20:40:48.579Z"
   },
   {
    "duration": 4,
    "start_time": "2023-04-10T20:40:48.873Z"
   },
   {
    "duration": 16,
    "start_time": "2023-04-10T20:40:56.774Z"
   },
   {
    "duration": 3,
    "start_time": "2023-04-10T20:43:25.923Z"
   },
   {
    "duration": 3,
    "start_time": "2023-04-10T20:43:52.427Z"
   },
   {
    "duration": 4,
    "start_time": "2023-04-10T20:43:52.761Z"
   },
   {
    "duration": 4,
    "start_time": "2023-04-10T20:43:52.932Z"
   },
   {
    "duration": 7,
    "start_time": "2023-04-10T20:43:53.252Z"
   },
   {
    "duration": 15,
    "start_time": "2023-04-10T20:44:09.115Z"
   },
   {
    "duration": 12,
    "start_time": "2023-04-10T20:46:51.675Z"
   },
   {
    "duration": 16,
    "start_time": "2023-04-10T20:46:56.665Z"
   },
   {
    "duration": 1349,
    "start_time": "2023-04-10T20:47:08.395Z"
   },
   {
    "duration": 394,
    "start_time": "2023-04-10T20:47:09.746Z"
   },
   {
    "duration": 16,
    "start_time": "2023-04-10T20:47:10.142Z"
   },
   {
    "duration": 19,
    "start_time": "2023-04-10T20:47:10.160Z"
   },
   {
    "duration": 19,
    "start_time": "2023-04-10T20:47:10.182Z"
   },
   {
    "duration": 68,
    "start_time": "2023-04-10T20:47:10.203Z"
   },
   {
    "duration": 9,
    "start_time": "2023-04-10T20:47:10.273Z"
   },
   {
    "duration": 48,
    "start_time": "2023-04-10T20:47:10.283Z"
   },
   {
    "duration": 17,
    "start_time": "2023-04-10T20:47:10.333Z"
   },
   {
    "duration": 39,
    "start_time": "2023-04-10T20:47:10.352Z"
   },
   {
    "duration": 11,
    "start_time": "2023-04-10T20:47:10.393Z"
   },
   {
    "duration": 22,
    "start_time": "2023-04-10T20:47:10.407Z"
   },
   {
    "duration": 14,
    "start_time": "2023-04-10T20:47:10.449Z"
   },
   {
    "duration": 9,
    "start_time": "2023-04-10T20:47:10.467Z"
   },
   {
    "duration": 63,
    "start_time": "2023-04-10T20:47:10.478Z"
   },
   {
    "duration": 55,
    "start_time": "2023-04-10T20:47:10.549Z"
   },
   {
    "duration": 68,
    "start_time": "2023-04-10T20:47:10.605Z"
   },
   {
    "duration": 12,
    "start_time": "2023-04-10T20:47:10.674Z"
   },
   {
    "duration": 32,
    "start_time": "2023-04-10T20:47:10.688Z"
   },
   {
    "duration": 10,
    "start_time": "2023-04-10T20:47:10.722Z"
   },
   {
    "duration": 16,
    "start_time": "2023-04-10T20:47:10.733Z"
   },
   {
    "duration": 41,
    "start_time": "2023-04-10T20:47:10.751Z"
   },
   {
    "duration": 25,
    "start_time": "2023-04-10T20:47:10.794Z"
   },
   {
    "duration": 45,
    "start_time": "2023-04-10T20:47:10.820Z"
   },
   {
    "duration": 83,
    "start_time": "2023-04-10T20:47:10.866Z"
   },
   {
    "duration": 112,
    "start_time": "2023-04-10T20:47:10.951Z"
   },
   {
    "duration": 179,
    "start_time": "2023-04-10T20:47:11.070Z"
   },
   {
    "duration": 101,
    "start_time": "2023-04-10T20:47:11.259Z"
   },
   {
    "duration": 195,
    "start_time": "2023-04-10T20:47:11.361Z"
   },
   {
    "duration": 7,
    "start_time": "2023-04-10T20:47:11.557Z"
   },
   {
    "duration": 9,
    "start_time": "2023-04-10T20:47:11.566Z"
   },
   {
    "duration": 96546,
    "start_time": "2023-04-10T20:47:11.577Z"
   },
   {
    "duration": 7,
    "start_time": "2023-04-10T20:48:48.124Z"
   },
   {
    "duration": 105184,
    "start_time": "2023-04-10T20:48:48.132Z"
   },
   {
    "duration": 5,
    "start_time": "2023-04-10T20:50:33.318Z"
   },
   {
    "duration": 106511,
    "start_time": "2023-04-10T20:50:33.325Z"
   },
   {
    "duration": 4,
    "start_time": "2023-04-10T20:52:19.838Z"
   },
   {
    "duration": 30,
    "start_time": "2023-04-10T20:52:19.848Z"
   },
   {
    "duration": 105,
    "start_time": "2023-04-10T20:52:19.879Z"
   },
   {
    "duration": 148,
    "start_time": "2023-04-10T20:52:19.985Z"
   },
   {
    "duration": 0,
    "start_time": "2023-04-10T20:52:20.135Z"
   },
   {
    "duration": 0,
    "start_time": "2023-04-10T20:52:20.136Z"
   },
   {
    "duration": 3,
    "start_time": "2023-04-10T20:57:54.406Z"
   },
   {
    "duration": 16,
    "start_time": "2023-04-10T20:59:09.336Z"
   },
   {
    "duration": 13,
    "start_time": "2023-04-10T20:59:15.016Z"
   },
   {
    "duration": 10,
    "start_time": "2023-04-10T21:00:19.170Z"
   },
   {
    "duration": 1562,
    "start_time": "2023-04-10T21:00:53.330Z"
   },
   {
    "duration": 10,
    "start_time": "2023-04-10T21:02:24.832Z"
   },
   {
    "duration": 10,
    "start_time": "2023-04-10T21:03:40.751Z"
   },
   {
    "duration": 10,
    "start_time": "2023-04-10T21:04:22.610Z"
   },
   {
    "duration": 4,
    "start_time": "2023-04-10T21:24:00.553Z"
   },
   {
    "duration": 4,
    "start_time": "2023-04-10T21:29:28.950Z"
   },
   {
    "duration": 21,
    "start_time": "2023-04-10T21:31:51.172Z"
   },
   {
    "duration": 3,
    "start_time": "2023-04-10T21:33:11.451Z"
   },
   {
    "duration": 12,
    "start_time": "2023-04-10T21:33:16.714Z"
   },
   {
    "duration": 6,
    "start_time": "2023-04-10T21:34:04.552Z"
   },
   {
    "duration": 10,
    "start_time": "2023-04-10T21:35:33.290Z"
   },
   {
    "duration": 9,
    "start_time": "2023-04-10T21:36:05.723Z"
   },
   {
    "duration": 7,
    "start_time": "2023-04-10T21:38:51.114Z"
   },
   {
    "duration": 1320,
    "start_time": "2023-04-10T21:46:02.203Z"
   },
   {
    "duration": 378,
    "start_time": "2023-04-10T21:46:03.526Z"
   },
   {
    "duration": 15,
    "start_time": "2023-04-10T21:46:03.905Z"
   },
   {
    "duration": 24,
    "start_time": "2023-04-10T21:46:03.922Z"
   },
   {
    "duration": 20,
    "start_time": "2023-04-10T21:46:03.949Z"
   },
   {
    "duration": 42,
    "start_time": "2023-04-10T21:46:03.971Z"
   },
   {
    "duration": 8,
    "start_time": "2023-04-10T21:46:04.015Z"
   },
   {
    "duration": 36,
    "start_time": "2023-04-10T21:46:04.049Z"
   },
   {
    "duration": 8,
    "start_time": "2023-04-10T21:46:04.087Z"
   },
   {
    "duration": 56,
    "start_time": "2023-04-10T21:46:04.097Z"
   },
   {
    "duration": 8,
    "start_time": "2023-04-10T21:46:04.155Z"
   },
   {
    "duration": 33,
    "start_time": "2023-04-10T21:46:04.165Z"
   },
   {
    "duration": 29,
    "start_time": "2023-04-10T21:46:04.200Z"
   },
   {
    "duration": 9,
    "start_time": "2023-04-10T21:46:04.232Z"
   },
   {
    "duration": 47,
    "start_time": "2023-04-10T21:46:04.243Z"
   },
   {
    "duration": 43,
    "start_time": "2023-04-10T21:46:04.292Z"
   },
   {
    "duration": 52,
    "start_time": "2023-04-10T21:46:04.349Z"
   },
   {
    "duration": 13,
    "start_time": "2023-04-10T21:46:04.402Z"
   },
   {
    "duration": 14,
    "start_time": "2023-04-10T21:46:04.416Z"
   },
   {
    "duration": 12,
    "start_time": "2023-04-10T21:46:04.449Z"
   },
   {
    "duration": 38,
    "start_time": "2023-04-10T21:46:04.464Z"
   },
   {
    "duration": 17,
    "start_time": "2023-04-10T21:46:04.504Z"
   },
   {
    "duration": 23,
    "start_time": "2023-04-10T21:46:04.524Z"
   },
   {
    "duration": 31,
    "start_time": "2023-04-10T21:46:04.550Z"
   },
   {
    "duration": 15,
    "start_time": "2023-04-10T21:46:04.584Z"
   },
   {
    "duration": 61,
    "start_time": "2023-04-10T21:46:04.601Z"
   },
   {
    "duration": 99,
    "start_time": "2023-04-10T21:46:04.663Z"
   },
   {
    "duration": 98,
    "start_time": "2023-04-10T21:46:04.853Z"
   },
   {
    "duration": 8,
    "start_time": "2023-04-10T21:46:04.953Z"
   },
   {
    "duration": 8,
    "start_time": "2023-04-10T21:46:04.962Z"
   },
   {
    "duration": 15,
    "start_time": "2023-04-10T21:46:04.972Z"
   },
   {
    "duration": 86533,
    "start_time": "2023-04-10T21:46:04.989Z"
   },
   {
    "duration": 5,
    "start_time": "2023-04-10T21:47:31.524Z"
   },
   {
    "duration": 94873,
    "start_time": "2023-04-10T21:47:31.531Z"
   },
   {
    "duration": 6,
    "start_time": "2023-04-10T21:49:06.405Z"
   },
   {
    "duration": 95207,
    "start_time": "2023-04-10T21:49:06.412Z"
   },
   {
    "duration": 4,
    "start_time": "2023-04-10T21:50:41.621Z"
   },
   {
    "duration": 33,
    "start_time": "2023-04-10T21:50:41.627Z"
   },
   {
    "duration": 97,
    "start_time": "2023-04-10T21:50:41.661Z"
   },
   {
    "duration": 5,
    "start_time": "2023-04-10T21:50:41.760Z"
   },
   {
    "duration": 27,
    "start_time": "2023-04-10T21:50:41.768Z"
   },
   {
    "duration": 8,
    "start_time": "2023-04-10T21:50:41.797Z"
   },
   {
    "duration": 11,
    "start_time": "2023-04-10T21:50:41.807Z"
   },
   {
    "duration": 57,
    "start_time": "2023-04-11T06:19:18.011Z"
   },
   {
    "duration": 2256,
    "start_time": "2023-04-11T06:19:43.750Z"
   },
   {
    "duration": 1149,
    "start_time": "2023-04-11T06:19:46.007Z"
   },
   {
    "duration": 15,
    "start_time": "2023-04-11T06:19:47.158Z"
   },
   {
    "duration": 15,
    "start_time": "2023-04-11T06:19:47.175Z"
   },
   {
    "duration": 21,
    "start_time": "2023-04-11T06:19:47.192Z"
   },
   {
    "duration": 68,
    "start_time": "2023-04-11T06:19:47.216Z"
   },
   {
    "duration": 11,
    "start_time": "2023-04-11T06:19:47.287Z"
   },
   {
    "duration": 68,
    "start_time": "2023-04-11T06:19:47.301Z"
   },
   {
    "duration": 12,
    "start_time": "2023-04-11T06:19:47.371Z"
   },
   {
    "duration": 31,
    "start_time": "2023-04-11T06:19:47.385Z"
   },
   {
    "duration": 24,
    "start_time": "2023-04-11T06:19:47.418Z"
   },
   {
    "duration": 17,
    "start_time": "2023-04-11T06:19:47.444Z"
   },
   {
    "duration": 9,
    "start_time": "2023-04-11T06:19:47.462Z"
   },
   {
    "duration": 9,
    "start_time": "2023-04-11T06:19:47.472Z"
   },
   {
    "duration": 93,
    "start_time": "2023-04-11T06:19:47.483Z"
   },
   {
    "duration": 59,
    "start_time": "2023-04-11T06:19:47.578Z"
   },
   {
    "duration": 42,
    "start_time": "2023-04-11T06:19:47.639Z"
   },
   {
    "duration": 10,
    "start_time": "2023-04-11T06:19:47.683Z"
   },
   {
    "duration": 9,
    "start_time": "2023-04-11T06:19:47.695Z"
   },
   {
    "duration": 7,
    "start_time": "2023-04-11T06:19:47.706Z"
   },
   {
    "duration": 10,
    "start_time": "2023-04-11T06:19:47.737Z"
   },
   {
    "duration": 14,
    "start_time": "2023-04-11T06:19:47.749Z"
   },
   {
    "duration": 15,
    "start_time": "2023-04-11T06:19:47.765Z"
   },
   {
    "duration": 18,
    "start_time": "2023-04-11T06:19:47.782Z"
   },
   {
    "duration": 143,
    "start_time": "2023-04-11T06:19:47.801Z"
   },
   {
    "duration": 94,
    "start_time": "2023-04-11T06:19:47.946Z"
   },
   {
    "duration": 95,
    "start_time": "2023-04-11T06:19:48.042Z"
   },
   {
    "duration": 4,
    "start_time": "2023-04-11T06:19:48.140Z"
   },
   {
    "duration": 92,
    "start_time": "2023-04-11T06:19:48.145Z"
   },
   {
    "duration": 11,
    "start_time": "2023-04-11T06:19:48.239Z"
   },
   {
    "duration": 96,
    "start_time": "2023-04-11T06:19:48.254Z"
   },
   {
    "duration": 93167,
    "start_time": "2023-04-11T06:19:48.353Z"
   },
   {
    "duration": 15,
    "start_time": "2023-04-11T06:21:21.522Z"
   },
   {
    "duration": 104327,
    "start_time": "2023-04-11T06:21:21.538Z"
   },
   {
    "duration": 5,
    "start_time": "2023-04-11T06:23:05.868Z"
   },
   {
    "duration": 101336,
    "start_time": "2023-04-11T06:23:05.874Z"
   },
   {
    "duration": 4,
    "start_time": "2023-04-11T06:24:47.212Z"
   },
   {
    "duration": 21,
    "start_time": "2023-04-11T06:24:47.218Z"
   },
   {
    "duration": 99,
    "start_time": "2023-04-11T06:24:47.241Z"
   },
   {
    "duration": 7,
    "start_time": "2023-04-11T06:24:47.342Z"
   },
   {
    "duration": 11,
    "start_time": "2023-04-11T06:24:47.351Z"
   },
   {
    "duration": 8,
    "start_time": "2023-04-11T06:24:47.363Z"
   },
   {
    "duration": 8,
    "start_time": "2023-04-11T06:24:47.373Z"
   },
   {
    "duration": 8,
    "start_time": "2023-04-11T06:24:47.384Z"
   },
   {
    "duration": 8,
    "start_time": "2023-04-11T06:25:38.889Z"
   },
   {
    "duration": 7,
    "start_time": "2023-04-11T07:01:31.337Z"
   },
   {
    "duration": 1743,
    "start_time": "2023-04-11T11:09:48.644Z"
   },
   {
    "duration": 1581,
    "start_time": "2023-04-11T11:09:50.390Z"
   },
   {
    "duration": 16,
    "start_time": "2023-04-11T11:09:53.311Z"
   },
   {
    "duration": 50,
    "start_time": "2023-04-11T11:10:13.574Z"
   },
   {
    "duration": 1493,
    "start_time": "2023-04-11T11:10:16.264Z"
   },
   {
    "duration": 360,
    "start_time": "2023-04-11T11:10:17.764Z"
   },
   {
    "duration": 14,
    "start_time": "2023-04-11T11:10:18.125Z"
   },
   {
    "duration": 26,
    "start_time": "2023-04-11T11:10:18.140Z"
   },
   {
    "duration": 22,
    "start_time": "2023-04-11T11:10:18.169Z"
   },
   {
    "duration": 38,
    "start_time": "2023-04-11T11:10:18.193Z"
   },
   {
    "duration": 19,
    "start_time": "2023-04-11T11:10:18.233Z"
   },
   {
    "duration": 37,
    "start_time": "2023-04-11T11:10:18.253Z"
   },
   {
    "duration": 9,
    "start_time": "2023-04-11T11:10:18.292Z"
   },
   {
    "duration": 70,
    "start_time": "2023-04-11T11:10:18.303Z"
   },
   {
    "duration": 9,
    "start_time": "2023-04-11T11:10:18.374Z"
   },
   {
    "duration": 17,
    "start_time": "2023-04-11T11:10:18.384Z"
   },
   {
    "duration": 9,
    "start_time": "2023-04-11T11:10:18.403Z"
   },
   {
    "duration": 11,
    "start_time": "2023-04-11T11:10:18.415Z"
   },
   {
    "duration": 80,
    "start_time": "2023-04-11T11:10:18.428Z"
   },
   {
    "duration": 67,
    "start_time": "2023-04-11T11:10:18.510Z"
   },
   {
    "duration": 45,
    "start_time": "2023-04-11T11:10:18.579Z"
   },
   {
    "duration": 11,
    "start_time": "2023-04-11T11:10:18.626Z"
   },
   {
    "duration": 31,
    "start_time": "2023-04-11T11:10:18.639Z"
   },
   {
    "duration": 9,
    "start_time": "2023-04-11T11:10:18.672Z"
   },
   {
    "duration": 9,
    "start_time": "2023-04-11T11:10:18.683Z"
   },
   {
    "duration": 26,
    "start_time": "2023-04-11T11:10:18.694Z"
   },
   {
    "duration": 14,
    "start_time": "2023-04-11T11:10:18.722Z"
   },
   {
    "duration": 42,
    "start_time": "2023-04-11T11:10:18.738Z"
   },
   {
    "duration": 15,
    "start_time": "2023-04-11T11:10:18.782Z"
   },
   {
    "duration": 167,
    "start_time": "2023-04-11T11:10:18.799Z"
   },
   {
    "duration": 207,
    "start_time": "2023-04-11T11:10:18.968Z"
   },
   {
    "duration": 190,
    "start_time": "2023-04-11T11:10:19.177Z"
   },
   {
    "duration": 6,
    "start_time": "2023-04-11T11:10:19.369Z"
   },
   {
    "duration": 8,
    "start_time": "2023-04-11T11:10:19.376Z"
   },
   {
    "duration": 8,
    "start_time": "2023-04-11T11:10:19.385Z"
   },
   {
    "duration": 90746,
    "start_time": "2023-04-11T11:10:19.394Z"
   },
   {
    "duration": 14,
    "start_time": "2023-04-11T11:11:50.141Z"
   },
   {
    "duration": 100235,
    "start_time": "2023-04-11T11:11:50.157Z"
   },
   {
    "duration": 6,
    "start_time": "2023-04-11T11:13:30.394Z"
   },
   {
    "duration": 109246,
    "start_time": "2023-04-11T11:13:30.401Z"
   },
   {
    "duration": 3,
    "start_time": "2023-04-11T11:15:19.649Z"
   },
   {
    "duration": 35,
    "start_time": "2023-04-11T11:15:19.653Z"
   },
   {
    "duration": 140,
    "start_time": "2023-04-11T11:15:19.690Z"
   },
   {
    "duration": 6,
    "start_time": "2023-04-11T11:15:19.832Z"
   },
   {
    "duration": 51,
    "start_time": "2023-04-11T11:15:19.841Z"
   },
   {
    "duration": 18,
    "start_time": "2023-04-11T11:15:19.894Z"
   },
   {
    "duration": 10,
    "start_time": "2023-04-11T11:15:19.914Z"
   },
   {
    "duration": 12,
    "start_time": "2023-04-11T11:15:19.926Z"
   },
   {
    "duration": 8,
    "start_time": "2023-04-11T11:15:19.939Z"
   },
   {
    "duration": 10,
    "start_time": "2023-04-11T11:17:11.975Z"
   },
   {
    "duration": 4,
    "start_time": "2023-04-11T11:33:46.520Z"
   },
   {
    "duration": 6,
    "start_time": "2023-04-11T11:34:27.268Z"
   },
   {
    "duration": 5,
    "start_time": "2023-04-11T11:35:13.997Z"
   },
   {
    "duration": 5,
    "start_time": "2023-04-11T11:35:42.218Z"
   },
   {
    "duration": 4,
    "start_time": "2023-04-11T11:35:43.596Z"
   },
   {
    "duration": 8,
    "start_time": "2023-04-11T11:36:11.929Z"
   },
   {
    "duration": 10,
    "start_time": "2023-04-11T11:37:05.954Z"
   },
   {
    "duration": 10,
    "start_time": "2023-04-11T11:37:07.458Z"
   },
   {
    "duration": 10,
    "start_time": "2023-04-11T11:37:08.935Z"
   },
   {
    "duration": 1430,
    "start_time": "2023-04-11T11:40:39.411Z"
   },
   {
    "duration": 363,
    "start_time": "2023-04-11T11:40:40.843Z"
   },
   {
    "duration": 16,
    "start_time": "2023-04-11T11:40:41.207Z"
   },
   {
    "duration": 26,
    "start_time": "2023-04-11T11:40:41.226Z"
   },
   {
    "duration": 15,
    "start_time": "2023-04-11T11:40:41.254Z"
   },
   {
    "duration": 47,
    "start_time": "2023-04-11T11:40:41.271Z"
   },
   {
    "duration": 31,
    "start_time": "2023-04-11T11:40:41.319Z"
   },
   {
    "duration": 43,
    "start_time": "2023-04-11T11:40:41.352Z"
   },
   {
    "duration": 9,
    "start_time": "2023-04-11T11:40:41.397Z"
   },
   {
    "duration": 61,
    "start_time": "2023-04-11T11:40:41.409Z"
   },
   {
    "duration": 8,
    "start_time": "2023-04-11T11:40:41.472Z"
   },
   {
    "duration": 15,
    "start_time": "2023-04-11T11:40:41.482Z"
   },
   {
    "duration": 9,
    "start_time": "2023-04-11T11:40:41.498Z"
   },
   {
    "duration": 11,
    "start_time": "2023-04-11T11:40:41.508Z"
   },
   {
    "duration": 70,
    "start_time": "2023-04-11T11:40:41.521Z"
   },
   {
    "duration": 58,
    "start_time": "2023-04-11T11:40:41.592Z"
   },
   {
    "duration": 45,
    "start_time": "2023-04-11T11:40:41.651Z"
   },
   {
    "duration": 11,
    "start_time": "2023-04-11T11:40:41.698Z"
   },
   {
    "duration": 33,
    "start_time": "2023-04-11T11:40:41.711Z"
   },
   {
    "duration": 11,
    "start_time": "2023-04-11T11:40:41.746Z"
   },
   {
    "duration": 15,
    "start_time": "2023-04-11T11:40:41.759Z"
   },
   {
    "duration": 13,
    "start_time": "2023-04-11T11:40:41.776Z"
   },
   {
    "duration": 14,
    "start_time": "2023-04-11T11:40:41.790Z"
   },
   {
    "duration": 14,
    "start_time": "2023-04-11T11:40:41.806Z"
   },
   {
    "duration": 47,
    "start_time": "2023-04-11T11:40:41.821Z"
   },
   {
    "duration": 92,
    "start_time": "2023-04-11T11:40:41.869Z"
   },
   {
    "duration": 98,
    "start_time": "2023-04-11T11:40:41.963Z"
   },
   {
    "duration": 186,
    "start_time": "2023-04-11T11:40:42.065Z"
   },
   {
    "duration": 5,
    "start_time": "2023-04-11T11:40:42.253Z"
   },
   {
    "duration": 9,
    "start_time": "2023-04-11T11:40:42.260Z"
   },
   {
    "duration": 11,
    "start_time": "2023-04-11T11:40:42.271Z"
   },
   {
    "duration": 92877,
    "start_time": "2023-04-11T11:40:42.284Z"
   },
   {
    "duration": 6,
    "start_time": "2023-04-11T11:42:15.162Z"
   },
   {
    "duration": 98899,
    "start_time": "2023-04-11T11:42:15.169Z"
   },
   {
    "duration": 6,
    "start_time": "2023-04-11T11:43:54.070Z"
   },
   {
    "duration": 103847,
    "start_time": "2023-04-11T11:43:54.078Z"
   },
   {
    "duration": 5,
    "start_time": "2023-04-11T11:45:37.927Z"
   },
   {
    "duration": 21,
    "start_time": "2023-04-11T11:45:37.934Z"
   },
   {
    "duration": 171,
    "start_time": "2023-04-11T11:45:37.957Z"
   },
   {
    "duration": 4,
    "start_time": "2023-04-11T11:45:38.130Z"
   },
   {
    "duration": 15,
    "start_time": "2023-04-11T11:45:38.136Z"
   },
   {
    "duration": 12,
    "start_time": "2023-04-11T11:45:38.153Z"
   },
   {
    "duration": 10,
    "start_time": "2023-04-11T11:45:38.167Z"
   },
   {
    "duration": 16,
    "start_time": "2023-04-11T11:45:38.179Z"
   },
   {
    "duration": 10,
    "start_time": "2023-04-11T11:45:38.197Z"
   },
   {
    "duration": 41,
    "start_time": "2023-04-11T11:45:38.209Z"
   },
   {
    "duration": 1649,
    "start_time": "2023-04-11T15:12:22.779Z"
   },
   {
    "duration": 1429,
    "start_time": "2023-04-11T15:12:24.430Z"
   },
   {
    "duration": 17,
    "start_time": "2023-04-11T15:12:25.861Z"
   },
   {
    "duration": 20,
    "start_time": "2023-04-11T15:12:25.880Z"
   },
   {
    "duration": 24,
    "start_time": "2023-04-11T15:12:25.902Z"
   },
   {
    "duration": 46,
    "start_time": "2023-04-11T15:12:25.927Z"
   },
   {
    "duration": 10,
    "start_time": "2023-04-11T15:12:25.974Z"
   },
   {
    "duration": 61,
    "start_time": "2023-04-11T15:12:25.986Z"
   },
   {
    "duration": 10,
    "start_time": "2023-04-11T15:12:26.048Z"
   },
   {
    "duration": 54,
    "start_time": "2023-04-11T15:12:26.059Z"
   },
   {
    "duration": 10,
    "start_time": "2023-04-11T15:12:26.117Z"
   },
   {
    "duration": 31,
    "start_time": "2023-04-11T15:12:26.129Z"
   },
   {
    "duration": 16,
    "start_time": "2023-04-11T15:12:26.162Z"
   },
   {
    "duration": 22,
    "start_time": "2023-04-11T15:12:26.181Z"
   },
   {
    "duration": 57,
    "start_time": "2023-04-11T15:12:26.205Z"
   },
   {
    "duration": 55,
    "start_time": "2023-04-11T15:12:26.263Z"
   },
   {
    "duration": 49,
    "start_time": "2023-04-11T15:12:26.320Z"
   },
   {
    "duration": 13,
    "start_time": "2023-04-11T15:12:26.371Z"
   },
   {
    "duration": 32,
    "start_time": "2023-04-11T15:12:26.387Z"
   },
   {
    "duration": 11,
    "start_time": "2023-04-11T15:12:26.421Z"
   },
   {
    "duration": 12,
    "start_time": "2023-04-11T15:12:26.434Z"
   },
   {
    "duration": 24,
    "start_time": "2023-04-11T15:12:26.448Z"
   },
   {
    "duration": 43,
    "start_time": "2023-04-11T15:12:26.474Z"
   },
   {
    "duration": 22,
    "start_time": "2023-04-11T15:12:26.520Z"
   },
   {
    "duration": 77,
    "start_time": "2023-04-11T15:12:26.544Z"
   },
   {
    "duration": 204,
    "start_time": "2023-04-11T15:12:26.623Z"
   },
   {
    "duration": 186,
    "start_time": "2023-04-11T15:12:26.832Z"
   },
   {
    "duration": 6,
    "start_time": "2023-04-11T15:12:27.021Z"
   },
   {
    "duration": 107,
    "start_time": "2023-04-11T15:12:27.029Z"
   },
   {
    "duration": 8,
    "start_time": "2023-04-11T15:12:27.139Z"
   },
   {
    "duration": 46,
    "start_time": "2023-04-11T15:12:27.149Z"
   },
   {
    "duration": 104888,
    "start_time": "2023-04-11T15:12:27.197Z"
   },
   {
    "duration": 6,
    "start_time": "2023-04-11T15:14:12.087Z"
   },
   {
    "duration": 1455,
    "start_time": "2023-04-11T15:15:54.411Z"
   },
   {
    "duration": 400,
    "start_time": "2023-04-11T15:15:55.868Z"
   },
   {
    "duration": 17,
    "start_time": "2023-04-11T15:15:56.270Z"
   },
   {
    "duration": 37,
    "start_time": "2023-04-11T15:15:56.289Z"
   },
   {
    "duration": 22,
    "start_time": "2023-04-11T15:15:56.329Z"
   },
   {
    "duration": 80,
    "start_time": "2023-04-11T15:15:56.353Z"
   },
   {
    "duration": 11,
    "start_time": "2023-04-11T15:15:56.435Z"
   },
   {
    "duration": 71,
    "start_time": "2023-04-11T15:15:56.448Z"
   },
   {
    "duration": 17,
    "start_time": "2023-04-11T15:15:56.521Z"
   },
   {
    "duration": 90,
    "start_time": "2023-04-11T15:15:56.540Z"
   },
   {
    "duration": 10,
    "start_time": "2023-04-11T15:15:56.632Z"
   },
   {
    "duration": 38,
    "start_time": "2023-04-11T15:15:56.644Z"
   },
   {
    "duration": 23,
    "start_time": "2023-04-11T15:15:56.684Z"
   },
   {
    "duration": 40,
    "start_time": "2023-04-11T15:15:56.710Z"
   },
   {
    "duration": 76,
    "start_time": "2023-04-11T15:15:56.752Z"
   },
   {
    "duration": 47,
    "start_time": "2023-04-11T15:15:56.830Z"
   },
   {
    "duration": 67,
    "start_time": "2023-04-11T15:15:56.879Z"
   },
   {
    "duration": 12,
    "start_time": "2023-04-11T15:15:56.947Z"
   },
   {
    "duration": 52,
    "start_time": "2023-04-11T15:15:56.961Z"
   },
   {
    "duration": 31,
    "start_time": "2023-04-11T15:15:57.014Z"
   },
   {
    "duration": 30,
    "start_time": "2023-04-11T15:15:57.047Z"
   },
   {
    "duration": 22,
    "start_time": "2023-04-11T15:15:57.078Z"
   },
   {
    "duration": 31,
    "start_time": "2023-04-11T15:15:57.101Z"
   },
   {
    "duration": 27,
    "start_time": "2023-04-11T15:15:57.134Z"
   },
   {
    "duration": 39,
    "start_time": "2023-04-11T15:15:57.163Z"
   },
   {
    "duration": 213,
    "start_time": "2023-04-11T15:15:57.205Z"
   },
   {
    "duration": 122,
    "start_time": "2023-04-11T15:15:57.420Z"
   },
   {
    "duration": 188,
    "start_time": "2023-04-11T15:15:57.545Z"
   },
   {
    "duration": 25,
    "start_time": "2023-04-11T15:15:57.735Z"
   },
   {
    "duration": 20,
    "start_time": "2023-04-11T15:15:57.762Z"
   },
   {
    "duration": 41,
    "start_time": "2023-04-11T15:15:57.784Z"
   },
   {
    "duration": 105847,
    "start_time": "2023-04-11T15:15:57.827Z"
   },
   {
    "duration": 7,
    "start_time": "2023-04-11T15:17:43.676Z"
   },
   {
    "duration": 112526,
    "start_time": "2023-04-11T15:17:43.685Z"
   },
   {
    "duration": 7,
    "start_time": "2023-04-11T15:19:36.213Z"
   },
   {
    "duration": 112950,
    "start_time": "2023-04-11T15:19:36.222Z"
   },
   {
    "duration": 4,
    "start_time": "2023-04-11T15:21:29.174Z"
   },
   {
    "duration": 14,
    "start_time": "2023-04-11T15:21:29.180Z"
   },
   {
    "duration": 128,
    "start_time": "2023-04-11T15:21:29.196Z"
   },
   {
    "duration": 5,
    "start_time": "2023-04-11T15:21:29.326Z"
   },
   {
    "duration": 11,
    "start_time": "2023-04-11T15:21:29.336Z"
   },
   {
    "duration": 20,
    "start_time": "2023-04-11T15:21:29.349Z"
   },
   {
    "duration": 133,
    "start_time": "2023-04-11T15:21:29.371Z"
   },
   {
    "duration": 0,
    "start_time": "2023-04-11T15:21:29.506Z"
   },
   {
    "duration": 0,
    "start_time": "2023-04-11T15:21:29.508Z"
   },
   {
    "duration": 4,
    "start_time": "2023-04-11T15:28:43.131Z"
   },
   {
    "duration": 5,
    "start_time": "2023-04-11T15:30:13.500Z"
   },
   {
    "duration": 17,
    "start_time": "2023-04-11T15:30:25.902Z"
   },
   {
    "duration": 4,
    "start_time": "2023-04-11T15:31:03.508Z"
   },
   {
    "duration": 5,
    "start_time": "2023-04-11T15:33:23.910Z"
   },
   {
    "duration": 16,
    "start_time": "2023-04-11T15:33:27.715Z"
   },
   {
    "duration": 16,
    "start_time": "2023-04-11T15:33:49.673Z"
   },
   {
    "duration": 6,
    "start_time": "2023-04-11T15:37:02.732Z"
   },
   {
    "duration": 5,
    "start_time": "2023-04-11T15:37:04.651Z"
   },
   {
    "duration": 1140,
    "start_time": "2023-04-11T15:37:06.252Z"
   },
   {
    "duration": 14,
    "start_time": "2023-04-11T15:37:09.406Z"
   },
   {
    "duration": 1129,
    "start_time": "2023-04-11T15:37:50.533Z"
   },
   {
    "duration": 1062,
    "start_time": "2023-04-11T15:38:04.435Z"
   },
   {
    "duration": 1067,
    "start_time": "2023-04-11T15:38:27.813Z"
   },
   {
    "duration": 1529,
    "start_time": "2023-04-11T15:42:03.634Z"
   },
   {
    "duration": 418,
    "start_time": "2023-04-11T15:42:05.165Z"
   },
   {
    "duration": 20,
    "start_time": "2023-04-11T15:42:05.584Z"
   },
   {
    "duration": 24,
    "start_time": "2023-04-11T15:42:05.606Z"
   },
   {
    "duration": 23,
    "start_time": "2023-04-11T15:42:05.633Z"
   },
   {
    "duration": 61,
    "start_time": "2023-04-11T15:42:05.658Z"
   },
   {
    "duration": 10,
    "start_time": "2023-04-11T15:42:05.721Z"
   },
   {
    "duration": 58,
    "start_time": "2023-04-11T15:42:05.732Z"
   },
   {
    "duration": 10,
    "start_time": "2023-04-11T15:42:05.792Z"
   },
   {
    "duration": 60,
    "start_time": "2023-04-11T15:42:05.805Z"
   },
   {
    "duration": 10,
    "start_time": "2023-04-11T15:42:05.867Z"
   },
   {
    "duration": 67,
    "start_time": "2023-04-11T15:42:05.878Z"
   },
   {
    "duration": 18,
    "start_time": "2023-04-11T15:42:05.946Z"
   },
   {
    "duration": 23,
    "start_time": "2023-04-11T15:42:05.968Z"
   },
   {
    "duration": 61,
    "start_time": "2023-04-11T15:42:05.993Z"
   },
   {
    "duration": 48,
    "start_time": "2023-04-11T15:42:06.056Z"
   },
   {
    "duration": 59,
    "start_time": "2023-04-11T15:42:06.106Z"
   },
   {
    "duration": 12,
    "start_time": "2023-04-11T15:42:06.167Z"
   },
   {
    "duration": 22,
    "start_time": "2023-04-11T15:42:06.181Z"
   },
   {
    "duration": 12,
    "start_time": "2023-04-11T15:42:06.216Z"
   },
   {
    "duration": 14,
    "start_time": "2023-04-11T15:42:06.231Z"
   },
   {
    "duration": 27,
    "start_time": "2023-04-11T15:42:06.248Z"
   },
   {
    "duration": 18,
    "start_time": "2023-04-11T15:42:06.277Z"
   },
   {
    "duration": 32,
    "start_time": "2023-04-11T15:42:06.297Z"
   },
   {
    "duration": 96,
    "start_time": "2023-04-11T15:42:06.331Z"
   },
   {
    "duration": 108,
    "start_time": "2023-04-11T15:42:06.430Z"
   },
   {
    "duration": 185,
    "start_time": "2023-04-11T15:42:06.543Z"
   },
   {
    "duration": 90,
    "start_time": "2023-04-11T15:42:06.732Z"
   },
   {
    "duration": 127,
    "start_time": "2023-04-11T15:42:06.825Z"
   },
   {
    "duration": 78,
    "start_time": "2023-04-11T15:42:06.954Z"
   },
   {
    "duration": 17,
    "start_time": "2023-04-11T15:42:07.034Z"
   },
   {
    "duration": 1380,
    "start_time": "2023-04-11T15:44:19.751Z"
   },
   {
    "duration": 410,
    "start_time": "2023-04-11T15:44:21.132Z"
   },
   {
    "duration": 17,
    "start_time": "2023-04-11T15:44:21.543Z"
   },
   {
    "duration": 18,
    "start_time": "2023-04-11T15:44:21.562Z"
   },
   {
    "duration": 15,
    "start_time": "2023-04-11T15:44:21.581Z"
   },
   {
    "duration": 45,
    "start_time": "2023-04-11T15:44:21.617Z"
   },
   {
    "duration": 10,
    "start_time": "2023-04-11T15:44:21.663Z"
   },
   {
    "duration": 58,
    "start_time": "2023-04-11T15:44:21.675Z"
   },
   {
    "duration": 10,
    "start_time": "2023-04-11T15:44:21.736Z"
   },
   {
    "duration": 44,
    "start_time": "2023-04-11T15:44:21.748Z"
   },
   {
    "duration": 29,
    "start_time": "2023-04-11T15:44:21.793Z"
   },
   {
    "duration": 27,
    "start_time": "2023-04-11T15:44:21.824Z"
   },
   {
    "duration": 11,
    "start_time": "2023-04-11T15:44:21.854Z"
   },
   {
    "duration": 24,
    "start_time": "2023-04-11T15:44:21.867Z"
   },
   {
    "duration": 71,
    "start_time": "2023-04-11T15:44:21.892Z"
   },
   {
    "duration": 70,
    "start_time": "2023-04-11T15:44:21.965Z"
   },
   {
    "duration": 54,
    "start_time": "2023-04-11T15:44:22.037Z"
   },
   {
    "duration": 29,
    "start_time": "2023-04-11T15:44:22.093Z"
   },
   {
    "duration": 19,
    "start_time": "2023-04-11T15:44:22.124Z"
   },
   {
    "duration": 9,
    "start_time": "2023-04-11T15:44:22.145Z"
   },
   {
    "duration": 10,
    "start_time": "2023-04-11T15:44:22.156Z"
   },
   {
    "duration": 22,
    "start_time": "2023-04-11T15:44:22.168Z"
   },
   {
    "duration": 38,
    "start_time": "2023-04-11T15:44:22.191Z"
   },
   {
    "duration": 32,
    "start_time": "2023-04-11T15:44:22.231Z"
   },
   {
    "duration": 37,
    "start_time": "2023-04-11T15:44:22.265Z"
   },
   {
    "duration": 215,
    "start_time": "2023-04-11T15:44:22.304Z"
   },
   {
    "duration": 122,
    "start_time": "2023-04-11T15:44:22.521Z"
   },
   {
    "duration": 175,
    "start_time": "2023-04-11T15:44:22.645Z"
   },
   {
    "duration": 14,
    "start_time": "2023-04-11T15:44:22.822Z"
   },
   {
    "duration": 18,
    "start_time": "2023-04-11T15:44:22.838Z"
   },
   {
    "duration": 15,
    "start_time": "2023-04-11T15:44:22.857Z"
   },
   {
    "duration": 1474,
    "start_time": "2023-04-11T15:49:38.223Z"
   },
   {
    "duration": 403,
    "start_time": "2023-04-11T15:49:39.701Z"
   },
   {
    "duration": 21,
    "start_time": "2023-04-11T15:49:40.107Z"
   },
   {
    "duration": 32,
    "start_time": "2023-04-11T15:49:40.130Z"
   },
   {
    "duration": 15,
    "start_time": "2023-04-11T15:49:40.164Z"
   },
   {
    "duration": 52,
    "start_time": "2023-04-11T15:49:40.181Z"
   },
   {
    "duration": 10,
    "start_time": "2023-04-11T15:49:40.235Z"
   },
   {
    "duration": 56,
    "start_time": "2023-04-11T15:49:40.247Z"
   },
   {
    "duration": 18,
    "start_time": "2023-04-11T15:49:40.305Z"
   },
   {
    "duration": 51,
    "start_time": "2023-04-11T15:49:40.325Z"
   },
   {
    "duration": 11,
    "start_time": "2023-04-11T15:49:40.378Z"
   },
   {
    "duration": 29,
    "start_time": "2023-04-11T15:49:40.394Z"
   },
   {
    "duration": 29,
    "start_time": "2023-04-11T15:49:40.425Z"
   },
   {
    "duration": 31,
    "start_time": "2023-04-11T15:49:40.457Z"
   },
   {
    "duration": 67,
    "start_time": "2023-04-11T15:49:40.491Z"
   },
   {
    "duration": 59,
    "start_time": "2023-04-11T15:49:40.560Z"
   },
   {
    "duration": 61,
    "start_time": "2023-04-11T15:49:40.621Z"
   },
   {
    "duration": 14,
    "start_time": "2023-04-11T15:49:40.684Z"
   },
   {
    "duration": 39,
    "start_time": "2023-04-11T15:49:40.699Z"
   },
   {
    "duration": 31,
    "start_time": "2023-04-11T15:49:40.740Z"
   },
   {
    "duration": 22,
    "start_time": "2023-04-11T15:49:40.773Z"
   },
   {
    "duration": 25,
    "start_time": "2023-04-11T15:49:40.797Z"
   },
   {
    "duration": 37,
    "start_time": "2023-04-11T15:49:40.824Z"
   },
   {
    "duration": 17,
    "start_time": "2023-04-11T15:49:40.863Z"
   },
   {
    "duration": 18,
    "start_time": "2023-04-11T15:49:40.882Z"
   },
   {
    "duration": 107,
    "start_time": "2023-04-11T15:49:40.921Z"
   },
   {
    "duration": 126,
    "start_time": "2023-04-11T15:49:41.119Z"
   },
   {
    "duration": 74,
    "start_time": "2023-04-11T15:49:41.247Z"
   },
   {
    "duration": 96,
    "start_time": "2023-04-11T15:49:41.324Z"
   },
   {
    "duration": 21,
    "start_time": "2023-04-11T15:49:41.422Z"
   },
   {
    "duration": 43,
    "start_time": "2023-04-11T15:49:41.445Z"
   },
   {
    "duration": 103849,
    "start_time": "2023-04-11T15:49:41.490Z"
   },
   {
    "duration": 7,
    "start_time": "2023-04-11T15:51:25.341Z"
   },
   {
    "duration": 1605,
    "start_time": "2023-04-11T15:52:08.113Z"
   },
   {
    "duration": 391,
    "start_time": "2023-04-11T15:52:09.720Z"
   },
   {
    "duration": 20,
    "start_time": "2023-04-11T15:52:10.112Z"
   },
   {
    "duration": 37,
    "start_time": "2023-04-11T15:52:10.134Z"
   },
   {
    "duration": 33,
    "start_time": "2023-04-11T15:52:10.173Z"
   },
   {
    "duration": 51,
    "start_time": "2023-04-11T15:52:10.208Z"
   },
   {
    "duration": 9,
    "start_time": "2023-04-11T15:52:10.261Z"
   },
   {
    "duration": 68,
    "start_time": "2023-04-11T15:52:10.271Z"
   },
   {
    "duration": 10,
    "start_time": "2023-04-11T15:52:10.341Z"
   },
   {
    "duration": 48,
    "start_time": "2023-04-11T15:52:10.352Z"
   },
   {
    "duration": 18,
    "start_time": "2023-04-11T15:52:10.402Z"
   },
   {
    "duration": 18,
    "start_time": "2023-04-11T15:52:10.421Z"
   },
   {
    "duration": 17,
    "start_time": "2023-04-11T15:52:10.440Z"
   },
   {
    "duration": 10,
    "start_time": "2023-04-11T15:52:10.461Z"
   },
   {
    "duration": 68,
    "start_time": "2023-04-11T15:52:10.473Z"
   },
   {
    "duration": 47,
    "start_time": "2023-04-11T15:52:10.543Z"
   },
   {
    "duration": 61,
    "start_time": "2023-04-11T15:52:10.591Z"
   },
   {
    "duration": 13,
    "start_time": "2023-04-11T15:52:10.653Z"
   },
   {
    "duration": 17,
    "start_time": "2023-04-11T15:52:10.668Z"
   },
   {
    "duration": 18,
    "start_time": "2023-04-11T15:52:10.687Z"
   },
   {
    "duration": 31,
    "start_time": "2023-04-11T15:52:10.717Z"
   },
   {
    "duration": 17,
    "start_time": "2023-04-11T15:52:10.750Z"
   },
   {
    "duration": 23,
    "start_time": "2023-04-11T15:52:10.770Z"
   },
   {
    "duration": 26,
    "start_time": "2023-04-11T15:52:10.795Z"
   },
   {
    "duration": 22,
    "start_time": "2023-04-11T15:52:10.823Z"
   },
   {
    "duration": 185,
    "start_time": "2023-04-11T15:52:10.847Z"
   },
   {
    "duration": 180,
    "start_time": "2023-04-11T15:52:11.039Z"
   },
   {
    "duration": 196,
    "start_time": "2023-04-11T15:52:11.222Z"
   },
   {
    "duration": 4,
    "start_time": "2023-04-11T15:52:11.420Z"
   },
   {
    "duration": 16,
    "start_time": "2023-04-11T15:52:11.425Z"
   },
   {
    "duration": 22,
    "start_time": "2023-04-11T15:52:11.442Z"
   },
   {
    "duration": 105451,
    "start_time": "2023-04-11T15:52:11.466Z"
   },
   {
    "duration": 7,
    "start_time": "2023-04-11T15:53:56.919Z"
   },
   {
    "duration": 113852,
    "start_time": "2023-04-11T15:53:56.927Z"
   },
   {
    "duration": 7,
    "start_time": "2023-04-11T15:55:50.781Z"
   },
   {
    "duration": 116145,
    "start_time": "2023-04-11T15:55:50.790Z"
   },
   {
    "duration": 4,
    "start_time": "2023-04-11T15:57:46.937Z"
   },
   {
    "duration": 24,
    "start_time": "2023-04-11T15:57:46.943Z"
   },
   {
    "duration": 117,
    "start_time": "2023-04-11T15:57:46.969Z"
   },
   {
    "duration": 3,
    "start_time": "2023-04-11T15:57:47.088Z"
   },
   {
    "duration": 12,
    "start_time": "2023-04-11T15:57:47.095Z"
   },
   {
    "duration": 8,
    "start_time": "2023-04-11T15:57:47.117Z"
   },
   {
    "duration": 1106,
    "start_time": "2023-04-11T15:57:47.127Z"
   },
   {
    "duration": 1116,
    "start_time": "2023-04-11T15:57:48.235Z"
   },
   {
    "duration": 1070,
    "start_time": "2023-04-11T15:57:49.353Z"
   },
   {
    "duration": 1101,
    "start_time": "2023-04-11T16:23:18.584Z"
   },
   {
    "duration": 1113,
    "start_time": "2023-04-11T16:23:42.604Z"
   },
   {
    "duration": 1055,
    "start_time": "2023-04-11T16:24:14.023Z"
   },
   {
    "duration": 1125,
    "start_time": "2023-04-11T16:25:08.123Z"
   },
   {
    "duration": 1144,
    "start_time": "2023-04-11T16:25:41.087Z"
   },
   {
    "duration": 6,
    "start_time": "2023-04-11T16:28:00.224Z"
   },
   {
    "duration": 7,
    "start_time": "2023-04-11T16:28:04.684Z"
   },
   {
    "duration": 1089,
    "start_time": "2023-04-11T16:28:06.852Z"
   },
   {
    "duration": 3369,
    "start_time": "2023-04-11T16:29:39.504Z"
   },
   {
    "duration": 1129,
    "start_time": "2023-04-11T16:30:51.043Z"
   },
   {
    "duration": 1508,
    "start_time": "2023-04-11T16:36:48.072Z"
   },
   {
    "duration": 470,
    "start_time": "2023-04-11T16:36:49.582Z"
   },
   {
    "duration": 17,
    "start_time": "2023-04-11T16:36:50.054Z"
   },
   {
    "duration": 47,
    "start_time": "2023-04-11T16:36:50.073Z"
   },
   {
    "duration": 23,
    "start_time": "2023-04-11T16:36:50.123Z"
   },
   {
    "duration": 48,
    "start_time": "2023-04-11T16:36:50.149Z"
   },
   {
    "duration": 30,
    "start_time": "2023-04-11T16:36:50.199Z"
   },
   {
    "duration": 58,
    "start_time": "2023-04-11T16:36:50.232Z"
   },
   {
    "duration": 10,
    "start_time": "2023-04-11T16:36:50.292Z"
   },
   {
    "duration": 62,
    "start_time": "2023-04-11T16:36:50.319Z"
   },
   {
    "duration": 9,
    "start_time": "2023-04-11T16:36:50.384Z"
   },
   {
    "duration": 36,
    "start_time": "2023-04-11T16:36:50.395Z"
   },
   {
    "duration": 58,
    "start_time": "2023-04-11T16:36:50.433Z"
   },
   {
    "duration": 34,
    "start_time": "2023-04-11T16:36:50.494Z"
   },
   {
    "duration": 79,
    "start_time": "2023-04-11T16:36:50.532Z"
   },
   {
    "duration": 54,
    "start_time": "2023-04-11T16:36:50.613Z"
   },
   {
    "duration": 55,
    "start_time": "2023-04-11T16:36:50.668Z"
   },
   {
    "duration": 23,
    "start_time": "2023-04-11T16:36:50.729Z"
   },
   {
    "duration": 49,
    "start_time": "2023-04-11T16:36:50.754Z"
   },
   {
    "duration": 25,
    "start_time": "2023-04-11T16:36:50.805Z"
   },
   {
    "duration": 41,
    "start_time": "2023-04-11T16:36:50.832Z"
   },
   {
    "duration": 26,
    "start_time": "2023-04-11T16:36:50.875Z"
   },
   {
    "duration": 76,
    "start_time": "2023-04-11T16:36:50.903Z"
   },
   {
    "duration": 36,
    "start_time": "2023-04-11T16:36:50.981Z"
   },
   {
    "duration": 43,
    "start_time": "2023-04-11T16:36:51.020Z"
   },
   {
    "duration": 165,
    "start_time": "2023-04-11T16:36:51.066Z"
   },
   {
    "duration": 198,
    "start_time": "2023-04-11T16:36:51.239Z"
   },
   {
    "duration": 177,
    "start_time": "2023-04-11T16:36:51.443Z"
   },
   {
    "duration": 25,
    "start_time": "2023-04-11T16:36:51.622Z"
   },
   {
    "duration": 20,
    "start_time": "2023-04-11T16:36:51.649Z"
   },
   {
    "duration": 31,
    "start_time": "2023-04-11T16:36:51.671Z"
   },
   {
    "duration": 109516,
    "start_time": "2023-04-11T16:36:51.704Z"
   },
   {
    "duration": 7,
    "start_time": "2023-04-11T16:38:41.222Z"
   },
   {
    "duration": 1600,
    "start_time": "2023-04-11T16:40:26.050Z"
   },
   {
    "duration": 417,
    "start_time": "2023-04-11T16:40:27.652Z"
   },
   {
    "duration": 15,
    "start_time": "2023-04-11T16:40:28.071Z"
   },
   {
    "duration": 17,
    "start_time": "2023-04-11T16:40:29.051Z"
   },
   {
    "duration": 15,
    "start_time": "2023-04-11T16:40:29.882Z"
   },
   {
    "duration": 57,
    "start_time": "2023-04-11T16:40:30.794Z"
   },
   {
    "duration": 14,
    "start_time": "2023-04-11T16:40:31.038Z"
   },
   {
    "duration": 39,
    "start_time": "2023-04-11T16:40:31.245Z"
   },
   {
    "duration": 10,
    "start_time": "2023-04-11T16:40:31.449Z"
   },
   {
    "duration": 39,
    "start_time": "2023-04-11T16:40:31.690Z"
   },
   {
    "duration": 9,
    "start_time": "2023-04-11T16:40:31.891Z"
   },
   {
    "duration": 13,
    "start_time": "2023-04-11T16:40:32.432Z"
   },
   {
    "duration": 15,
    "start_time": "2023-04-11T16:40:32.638Z"
   },
   {
    "duration": 19,
    "start_time": "2023-04-11T16:40:32.810Z"
   },
   {
    "duration": 59,
    "start_time": "2023-04-11T16:40:33.183Z"
   },
   {
    "duration": 59,
    "start_time": "2023-04-11T16:40:33.371Z"
   },
   {
    "duration": 56,
    "start_time": "2023-04-11T16:40:33.580Z"
   },
   {
    "duration": 14,
    "start_time": "2023-04-11T16:40:33.991Z"
   },
   {
    "duration": 10,
    "start_time": "2023-04-11T16:40:34.393Z"
   },
   {
    "duration": 10,
    "start_time": "2023-04-11T16:40:34.593Z"
   },
   {
    "duration": 11,
    "start_time": "2023-04-11T16:40:34.796Z"
   },
   {
    "duration": 17,
    "start_time": "2023-04-11T16:40:36.187Z"
   },
   {
    "duration": 16,
    "start_time": "2023-04-11T16:40:36.370Z"
   },
   {
    "duration": 17,
    "start_time": "2023-04-11T16:40:36.576Z"
   },
   {
    "duration": 23,
    "start_time": "2023-04-11T16:40:37.140Z"
   },
   {
    "duration": 16,
    "start_time": "2023-04-11T16:40:37.341Z"
   },
   {
    "duration": 13,
    "start_time": "2023-04-11T16:40:37.554Z"
   },
   {
    "duration": 4,
    "start_time": "2023-04-11T16:40:38.140Z"
   },
   {
    "duration": 6,
    "start_time": "2023-04-11T16:40:38.312Z"
   },
   {
    "duration": 4,
    "start_time": "2023-04-11T16:40:38.575Z"
   },
   {
    "duration": 13,
    "start_time": "2023-04-11T16:40:39.624Z"
   },
   {
    "duration": 1558,
    "start_time": "2023-04-11T16:42:22.476Z"
   },
   {
    "duration": 426,
    "start_time": "2023-04-11T16:42:24.036Z"
   },
   {
    "duration": 15,
    "start_time": "2023-04-11T16:42:24.464Z"
   },
   {
    "duration": 20,
    "start_time": "2023-04-11T16:42:24.481Z"
   },
   {
    "duration": 34,
    "start_time": "2023-04-11T16:42:24.503Z"
   },
   {
    "duration": 48,
    "start_time": "2023-04-11T16:42:24.539Z"
   },
   {
    "duration": 9,
    "start_time": "2023-04-11T16:42:24.589Z"
   },
   {
    "duration": 87,
    "start_time": "2023-04-11T16:42:24.599Z"
   },
   {
    "duration": 11,
    "start_time": "2023-04-11T16:42:24.688Z"
   },
   {
    "duration": 57,
    "start_time": "2023-04-11T16:42:24.701Z"
   },
   {
    "duration": 9,
    "start_time": "2023-04-11T16:42:24.760Z"
   },
   {
    "duration": 32,
    "start_time": "2023-04-11T16:42:24.772Z"
   },
   {
    "duration": 26,
    "start_time": "2023-04-11T16:42:24.806Z"
   },
   {
    "duration": 22,
    "start_time": "2023-04-11T16:42:24.836Z"
   },
   {
    "duration": 102,
    "start_time": "2023-04-11T16:42:24.860Z"
   },
   {
    "duration": 66,
    "start_time": "2023-04-11T16:42:24.964Z"
   },
   {
    "duration": 52,
    "start_time": "2023-04-11T16:42:25.032Z"
   },
   {
    "duration": 15,
    "start_time": "2023-04-11T16:42:25.086Z"
   },
   {
    "duration": 48,
    "start_time": "2023-04-11T16:42:25.103Z"
   },
   {
    "duration": 12,
    "start_time": "2023-04-11T16:42:25.153Z"
   },
   {
    "duration": 26,
    "start_time": "2023-04-11T16:42:25.167Z"
   },
   {
    "duration": 46,
    "start_time": "2023-04-11T16:42:25.195Z"
   },
   {
    "duration": 27,
    "start_time": "2023-04-11T16:42:25.243Z"
   },
   {
    "duration": 44,
    "start_time": "2023-04-11T16:42:25.271Z"
   },
   {
    "duration": 41,
    "start_time": "2023-04-11T16:42:25.317Z"
   },
   {
    "duration": 192,
    "start_time": "2023-04-11T16:42:25.361Z"
   },
   {
    "duration": 173,
    "start_time": "2023-04-11T16:42:25.558Z"
   },
   {
    "duration": 198,
    "start_time": "2023-04-11T16:42:25.734Z"
   },
   {
    "duration": 18,
    "start_time": "2023-04-11T16:42:25.933Z"
   },
   {
    "duration": 7,
    "start_time": "2023-04-11T16:42:25.952Z"
   },
   {
    "duration": 11,
    "start_time": "2023-04-11T16:42:25.960Z"
   },
   {
    "duration": 108732,
    "start_time": "2023-04-11T16:42:25.973Z"
   },
   {
    "duration": 25,
    "start_time": "2023-04-11T16:44:14.706Z"
   },
   {
    "duration": 1527,
    "start_time": "2023-04-11T16:47:52.203Z"
   },
   {
    "duration": 435,
    "start_time": "2023-04-11T16:47:53.732Z"
   },
   {
    "duration": 16,
    "start_time": "2023-04-11T16:47:54.169Z"
   },
   {
    "duration": 15,
    "start_time": "2023-04-11T16:47:54.187Z"
   },
   {
    "duration": 15,
    "start_time": "2023-04-11T16:47:54.231Z"
   },
   {
    "duration": 43,
    "start_time": "2023-04-11T16:47:54.248Z"
   },
   {
    "duration": 10,
    "start_time": "2023-04-11T16:47:54.293Z"
   },
   {
    "duration": 51,
    "start_time": "2023-04-11T16:47:54.318Z"
   },
   {
    "duration": 9,
    "start_time": "2023-04-11T16:47:54.370Z"
   },
   {
    "duration": 54,
    "start_time": "2023-04-11T16:47:54.381Z"
   },
   {
    "duration": 9,
    "start_time": "2023-04-11T16:47:54.439Z"
   },
   {
    "duration": 21,
    "start_time": "2023-04-11T16:47:54.449Z"
   },
   {
    "duration": 19,
    "start_time": "2023-04-11T16:47:54.472Z"
   },
   {
    "duration": 33,
    "start_time": "2023-04-11T16:47:54.494Z"
   },
   {
    "duration": 58,
    "start_time": "2023-04-11T16:47:54.530Z"
   },
   {
    "duration": 53,
    "start_time": "2023-04-11T16:47:54.590Z"
   },
   {
    "duration": 85,
    "start_time": "2023-04-11T16:47:54.645Z"
   },
   {
    "duration": 15,
    "start_time": "2023-04-11T16:47:54.732Z"
   },
   {
    "duration": 33,
    "start_time": "2023-04-11T16:47:54.749Z"
   },
   {
    "duration": 14,
    "start_time": "2023-04-11T16:47:54.784Z"
   },
   {
    "duration": 29,
    "start_time": "2023-04-11T16:47:54.799Z"
   },
   {
    "duration": 61,
    "start_time": "2023-04-11T16:47:54.830Z"
   },
   {
    "duration": 18,
    "start_time": "2023-04-11T16:47:54.892Z"
   },
   {
    "duration": 38,
    "start_time": "2023-04-11T16:47:54.912Z"
   },
   {
    "duration": 21,
    "start_time": "2023-04-11T16:47:54.952Z"
   },
   {
    "duration": 107,
    "start_time": "2023-04-11T16:47:55.018Z"
   },
   {
    "duration": 208,
    "start_time": "2023-04-11T16:47:55.127Z"
   },
   {
    "duration": 7,
    "start_time": "2023-04-11T16:47:55.337Z"
   },
   {
    "duration": 10,
    "start_time": "2023-04-11T16:47:55.421Z"
   },
   {
    "duration": 87,
    "start_time": "2023-04-11T16:47:55.435Z"
   },
   {
    "duration": 30,
    "start_time": "2023-04-11T16:47:55.523Z"
   },
   {
    "duration": 1665,
    "start_time": "2023-04-11T16:51:24.937Z"
   },
   {
    "duration": 436,
    "start_time": "2023-04-11T16:51:26.604Z"
   },
   {
    "duration": 18,
    "start_time": "2023-04-11T16:51:27.042Z"
   },
   {
    "duration": 22,
    "start_time": "2023-04-11T16:51:27.062Z"
   },
   {
    "duration": 40,
    "start_time": "2023-04-11T16:51:27.087Z"
   },
   {
    "duration": 47,
    "start_time": "2023-04-11T16:51:27.130Z"
   },
   {
    "duration": 10,
    "start_time": "2023-04-11T16:51:27.179Z"
   },
   {
    "duration": 85,
    "start_time": "2023-04-11T16:51:27.191Z"
   },
   {
    "duration": 9,
    "start_time": "2023-04-11T16:51:27.278Z"
   },
   {
    "duration": 48,
    "start_time": "2023-04-11T16:51:27.288Z"
   },
   {
    "duration": 9,
    "start_time": "2023-04-11T16:51:27.339Z"
   },
   {
    "duration": 26,
    "start_time": "2023-04-11T16:51:27.351Z"
   },
   {
    "duration": 16,
    "start_time": "2023-04-11T16:51:27.379Z"
   },
   {
    "duration": 24,
    "start_time": "2023-04-11T16:51:27.417Z"
   },
   {
    "duration": 49,
    "start_time": "2023-04-11T16:51:27.442Z"
   },
   {
    "duration": 65,
    "start_time": "2023-04-11T16:51:27.493Z"
   },
   {
    "duration": 48,
    "start_time": "2023-04-11T16:51:27.560Z"
   },
   {
    "duration": 22,
    "start_time": "2023-04-11T16:51:27.618Z"
   },
   {
    "duration": 12,
    "start_time": "2023-04-11T16:51:27.642Z"
   },
   {
    "duration": 10,
    "start_time": "2023-04-11T16:51:27.657Z"
   },
   {
    "duration": 10,
    "start_time": "2023-04-11T16:51:27.669Z"
   },
   {
    "duration": 38,
    "start_time": "2023-04-11T16:51:27.681Z"
   },
   {
    "duration": 19,
    "start_time": "2023-04-11T16:51:27.729Z"
   },
   {
    "duration": 17,
    "start_time": "2023-04-11T16:51:27.750Z"
   },
   {
    "duration": 54,
    "start_time": "2023-04-11T16:51:27.769Z"
   },
   {
    "duration": 104,
    "start_time": "2023-04-11T16:51:27.825Z"
   },
   {
    "duration": 220,
    "start_time": "2023-04-11T16:51:27.931Z"
   },
   {
    "duration": 185,
    "start_time": "2023-04-11T16:51:28.154Z"
   },
   {
    "duration": 11,
    "start_time": "2023-04-11T16:51:28.341Z"
   },
   {
    "duration": 12,
    "start_time": "2023-04-11T16:51:28.354Z"
   },
   {
    "duration": 16,
    "start_time": "2023-04-11T16:51:28.367Z"
   },
   {
    "duration": 15,
    "start_time": "2023-04-11T16:51:28.384Z"
   },
   {
    "duration": 163,
    "start_time": "2023-04-11T16:51:28.400Z"
   },
   {
    "duration": 4,
    "start_time": "2023-04-11T16:51:28.564Z"
   },
   {
    "duration": 36,
    "start_time": "2023-04-11T16:51:28.570Z"
   },
   {
    "duration": 43,
    "start_time": "2023-04-11T16:51:28.608Z"
   },
   {
    "duration": 1118,
    "start_time": "2023-04-11T16:51:28.654Z"
   },
   {
    "duration": 5966,
    "start_time": "2023-04-11T16:51:29.774Z"
   },
   {
    "duration": 2167,
    "start_time": "2023-04-11T16:51:35.741Z"
   },
   {
    "duration": 1035,
    "start_time": "2023-04-11T16:51:37.909Z"
   },
   {
    "duration": 2010,
    "start_time": "2023-04-11T17:16:08.879Z"
   },
   {
    "duration": 1102,
    "start_time": "2023-04-11T17:16:10.891Z"
   },
   {
    "duration": 13,
    "start_time": "2023-04-11T17:16:11.995Z"
   },
   {
    "duration": 11,
    "start_time": "2023-04-11T17:16:12.010Z"
   },
   {
    "duration": 14,
    "start_time": "2023-04-11T17:16:12.023Z"
   },
   {
    "duration": 36,
    "start_time": "2023-04-11T17:16:12.039Z"
   },
   {
    "duration": 8,
    "start_time": "2023-04-11T17:16:12.077Z"
   },
   {
    "duration": 51,
    "start_time": "2023-04-11T17:16:12.087Z"
   },
   {
    "duration": 8,
    "start_time": "2023-04-11T17:16:12.139Z"
   },
   {
    "duration": 28,
    "start_time": "2023-04-11T17:16:12.150Z"
   },
   {
    "duration": 7,
    "start_time": "2023-04-11T17:16:12.180Z"
   },
   {
    "duration": 13,
    "start_time": "2023-04-11T17:16:12.189Z"
   },
   {
    "duration": 34,
    "start_time": "2023-04-11T17:16:12.203Z"
   },
   {
    "duration": 8,
    "start_time": "2023-04-11T17:16:12.239Z"
   },
   {
    "duration": 41,
    "start_time": "2023-04-11T17:16:12.248Z"
   },
   {
    "duration": 56,
    "start_time": "2023-04-11T17:16:12.291Z"
   },
   {
    "duration": 38,
    "start_time": "2023-04-11T17:16:12.349Z"
   },
   {
    "duration": 10,
    "start_time": "2023-04-11T17:16:12.388Z"
   },
   {
    "duration": 11,
    "start_time": "2023-04-11T17:16:12.399Z"
   },
   {
    "duration": 26,
    "start_time": "2023-04-11T17:16:12.412Z"
   },
   {
    "duration": 8,
    "start_time": "2023-04-11T17:16:12.439Z"
   },
   {
    "duration": 13,
    "start_time": "2023-04-11T17:16:12.448Z"
   },
   {
    "duration": 13,
    "start_time": "2023-04-11T17:16:12.463Z"
   },
   {
    "duration": 13,
    "start_time": "2023-04-11T17:16:12.478Z"
   },
   {
    "duration": 53,
    "start_time": "2023-04-11T17:16:12.493Z"
   },
   {
    "duration": 95,
    "start_time": "2023-04-11T17:16:12.548Z"
   },
   {
    "duration": 96,
    "start_time": "2023-04-11T17:16:12.645Z"
   },
   {
    "duration": 7,
    "start_time": "2023-04-11T17:16:12.744Z"
   },
   {
    "duration": 4,
    "start_time": "2023-04-11T17:16:12.836Z"
   },
   {
    "duration": 13,
    "start_time": "2023-04-11T17:16:12.842Z"
   },
   {
    "duration": 9,
    "start_time": "2023-04-11T17:16:12.939Z"
   },
   {
    "duration": 8,
    "start_time": "2023-04-11T17:16:12.950Z"
   },
   {
    "duration": 6,
    "start_time": "2023-04-11T17:16:12.959Z"
   },
   {
    "duration": 3,
    "start_time": "2023-04-11T17:16:12.967Z"
   },
   {
    "duration": 7,
    "start_time": "2023-04-11T17:16:12.972Z"
   },
   {
    "duration": 121,
    "start_time": "2023-04-11T17:16:12.980Z"
   },
   {
    "duration": 3,
    "start_time": "2023-04-11T17:16:13.102Z"
   },
   {
    "duration": 8,
    "start_time": "2023-04-11T17:16:13.107Z"
   },
   {
    "duration": 20,
    "start_time": "2023-04-11T17:16:13.117Z"
   },
   {
    "duration": 868,
    "start_time": "2023-04-11T17:16:13.138Z"
   },
   {
    "duration": 843,
    "start_time": "2023-04-11T17:16:14.007Z"
   },
   {
    "duration": 866,
    "start_time": "2023-04-11T17:16:14.851Z"
   },
   {
    "duration": 100,
    "start_time": "2023-04-11T17:16:15.719Z"
   },
   {
    "duration": 7,
    "start_time": "2023-04-11T17:20:57.645Z"
   },
   {
    "duration": 1221,
    "start_time": "2023-04-11T17:21:02.962Z"
   },
   {
    "duration": 1122,
    "start_time": "2023-04-11T17:21:07.651Z"
   },
   {
    "duration": 1194,
    "start_time": "2023-04-11T17:21:11.513Z"
   },
   {
    "duration": 2161,
    "start_time": "2023-04-11T17:22:28.017Z"
   },
   {
    "duration": 382,
    "start_time": "2023-04-11T17:22:30.180Z"
   },
   {
    "duration": 15,
    "start_time": "2023-04-11T17:22:30.564Z"
   },
   {
    "duration": 37,
    "start_time": "2023-04-11T17:22:30.581Z"
   },
   {
    "duration": 36,
    "start_time": "2023-04-11T17:22:30.619Z"
   },
   {
    "duration": 73,
    "start_time": "2023-04-11T17:22:30.657Z"
   },
   {
    "duration": 10,
    "start_time": "2023-04-11T17:22:30.732Z"
   },
   {
    "duration": 69,
    "start_time": "2023-04-11T17:22:30.744Z"
   },
   {
    "duration": 9,
    "start_time": "2023-04-11T17:22:30.814Z"
   },
   {
    "duration": 74,
    "start_time": "2023-04-11T17:22:30.826Z"
   },
   {
    "duration": 40,
    "start_time": "2023-04-11T17:22:30.901Z"
   },
   {
    "duration": 90,
    "start_time": "2023-04-11T17:22:30.942Z"
   },
   {
    "duration": 62,
    "start_time": "2023-04-11T17:22:31.033Z"
   },
   {
    "duration": 56,
    "start_time": "2023-04-11T17:22:31.096Z"
   },
   {
    "duration": 65,
    "start_time": "2023-04-11T17:22:31.153Z"
   },
   {
    "duration": 40,
    "start_time": "2023-04-11T17:22:31.219Z"
   },
   {
    "duration": 42,
    "start_time": "2023-04-11T17:22:31.260Z"
   },
   {
    "duration": 11,
    "start_time": "2023-04-11T17:22:31.304Z"
   },
   {
    "duration": 39,
    "start_time": "2023-04-11T17:22:31.317Z"
   },
   {
    "duration": 20,
    "start_time": "2023-04-11T17:22:31.358Z"
   },
   {
    "duration": 42,
    "start_time": "2023-04-11T17:22:31.379Z"
   },
   {
    "duration": 48,
    "start_time": "2023-04-11T17:22:31.422Z"
   },
   {
    "duration": 46,
    "start_time": "2023-04-11T17:22:31.472Z"
   },
   {
    "duration": 23,
    "start_time": "2023-04-11T17:22:31.520Z"
   },
   {
    "duration": 24,
    "start_time": "2023-04-11T17:22:31.545Z"
   },
   {
    "duration": 167,
    "start_time": "2023-04-11T17:22:31.570Z"
   },
   {
    "duration": 202,
    "start_time": "2023-04-11T17:22:31.741Z"
   },
   {
    "duration": 4,
    "start_time": "2023-04-11T17:22:31.947Z"
   },
   {
    "duration": 186,
    "start_time": "2023-04-11T17:22:31.952Z"
   },
   {
    "duration": 25,
    "start_time": "2023-04-11T17:22:32.140Z"
   },
   {
    "duration": 20,
    "start_time": "2023-04-11T17:22:32.166Z"
   },
   {
    "duration": 19,
    "start_time": "2023-04-11T17:22:32.187Z"
   },
   {
    "duration": 28,
    "start_time": "2023-04-11T17:22:32.207Z"
   },
   {
    "duration": 2,
    "start_time": "2023-04-11T17:22:32.237Z"
   },
   {
    "duration": 28,
    "start_time": "2023-04-11T17:22:32.241Z"
   },
   {
    "duration": 100,
    "start_time": "2023-04-11T17:22:32.271Z"
   },
   {
    "duration": 3,
    "start_time": "2023-04-11T17:22:32.373Z"
   },
   {
    "duration": 5,
    "start_time": "2023-04-11T17:22:32.378Z"
   },
   {
    "duration": 8,
    "start_time": "2023-04-11T17:22:32.384Z"
   },
   {
    "duration": 1225,
    "start_time": "2023-04-11T17:22:32.394Z"
   },
   {
    "duration": 1142,
    "start_time": "2023-04-11T17:22:33.621Z"
   },
   {
    "duration": 1148,
    "start_time": "2023-04-11T17:22:34.764Z"
   },
   {
    "duration": 101,
    "start_time": "2023-04-11T17:22:35.913Z"
   }
  ],
  "kernelspec": {
   "display_name": "Python 3 (ipykernel)",
   "language": "python",
   "name": "python3"
  },
  "language_info": {
   "codemirror_mode": {
    "name": "ipython",
    "version": 3
   },
   "file_extension": ".py",
   "mimetype": "text/x-python",
   "name": "python",
   "nbconvert_exporter": "python",
   "pygments_lexer": "ipython3",
   "version": "3.9.13"
  },
  "toc": {
   "base_numbering": 1,
   "nav_menu": {},
   "number_sections": true,
   "sideBar": true,
   "skip_h1_title": true,
   "title_cell": "Table of Contents",
   "title_sidebar": "Contents",
   "toc_cell": false,
   "toc_position": {
    "height": "calc(100% - 180px)",
    "left": "10px",
    "top": "150px",
    "width": "279.825px"
   },
   "toc_section_display": true,
   "toc_window_display": true
  }
 },
 "nbformat": 4,
 "nbformat_minor": 2
}
